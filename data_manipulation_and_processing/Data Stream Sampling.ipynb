{
 "cells": [
  {
   "cell_type": "markdown",
   "metadata": {},
   "source": [
    "## Sampling Data Streams\n",
    "\n",
    "Exercises exploring distributions within a stream of tweets, etc., or some potentially unlimited stream of data. One of the biggest challenges with data mining streams is that  **we have limited storage capacity for the very high volume of incoming data, which may arrive at a very high velocity as well**. In these real-world scenarios, **we cannot store or process all tweets at once, but are constrained to deal with only one or a few tweets at a time**. \n",
    "\n",
    "Sampling allows us to maintain a compact representation of the entire data stream and we hope that the distribution of emojis in the sample we collect sheds light on the overall distribution of emojis in the data stream. For this exercise, in an effort to simulate real-world situations in a repeatable process, we will generate a `TwitterStream` class to simulate a Twitter stream. It works the same way as a `list`, `tuple` or any other `iterable`s that you may have worked with before --- you can loop over it to receive **one tweet at a time**. Each tweet may or may not contain emojis. There's also a helper function `extract_emojis` that helps you extract all emojis from a piece of text. It may be also useful to know that the variable `UNICODE_EMOJI` is a collection of all emojis that are circulating around the world.\n",
    "\n",
    "<u><b>WARNING:</b></u> This is real Twitter data, and may contain triggering concepts as tweeted by real individuals.\n",
    "_________________________\n",
    "\n",
    "#### Generate `TwitterStream`"
   ]
  },
  {
   "cell_type": "code",
   "execution_count": 1,
   "metadata": {},
   "outputs": [],
   "source": [
    "# !pip install emoji"
   ]
  },
  {
   "cell_type": "code",
   "execution_count": 2,
   "metadata": {},
   "outputs": [],
   "source": [
    "import json\n",
    "from emoji import UNICODE_EMOJI\n",
    "\n",
    "def extract_emojis(text):\n",
    "    \"\"\"\n",
    "    Extract all emojis from a str\n",
    "    \"\"\"\n",
    "    return [ch for ch in text if ch in UNICODE_EMOJI]\n",
    "\n",
    "class TwitterStream:\n",
    "    \"\"\"\n",
    "    Used to simulate a Twitter stream. \n",
    "    \"\"\"\n",
    "    \n",
    "    def __init__(self, data_file):\n",
    "        self.data_file = data_file\n",
    "        self.data = open(self.data_file, \"r\")\n",
    "    \n",
    "    def __iter__(self):\n",
    "        return self.reset()\n",
    "    \n",
    "    def __next__(self):\n",
    "        next_line = self.data.readline()\n",
    "        if next_line:\n",
    "            return json.loads(next_line)[\"text\"]\n",
    "        else:\n",
    "            raise StopIteration\n",
    "    \n",
    "    def __del__(self):\n",
    "        if not self.data.closed:\n",
    "            self.data.close()\n",
    "    \n",
    "    def reset(self):\n",
    "        if not self.data.closed:\n",
    "            self.data.close()\n",
    "        self.data = open(self.data_file, \"r\")\n",
    "        return self"
   ]
  },
  {
   "cell_type": "markdown",
   "metadata": {},
   "source": [
    "How to call and interact with `TwitterStream`"
   ]
  },
  {
   "cell_type": "code",
   "execution_count": 3,
   "metadata": {},
   "outputs": [
    {
     "name": "stdout",
     "output_type": "stream",
     "text": [
      "0 Recently arrived in Australia - just been out on my evening dog walk and decided to give @petercrouch podcast a listen - wow...what have I been missing - absolutely hilarious! #thatpetercrouchpodcast\n",
      "1 Lmaoooooo love you allll\n",
      "2 Good morning! kita mo nga naman isang panibagong araw para maging malungkot ulit🤧\n",
      "3 Here we go ⚓️\n",
      "\n",
      "0 Recently arrived in Australia - just been out on my evening dog walk and decided to give @petercrouch podcast a listen - wow...what have I been missing - absolutely hilarious! #thatpetercrouchpodcast\n",
      "1 Lmaoooooo love you allll\n",
      "2 Good morning! kita mo nga naman isang panibagong araw para maging malungkot ulit🤧\n",
      "3 Here we go ⚓️\n"
     ]
    }
   ],
   "source": [
    "twitter_stream = TwitterStream(\"../assets/tweets\")  # instantiate a Twitter stream from a data file\n",
    "\n",
    "# use a for-loop to iterate through the stream, just like iterating over a list\n",
    "for index, tweet in enumerate(twitter_stream):\n",
    "    print(index, tweet)\n",
    "    if index >= 3:  # only prints the first 4 tweets\n",
    "        break\n",
    "\n",
    "twitter_stream.reset() # reset the stream so that it begins with the first tweet\n",
    "print()\n",
    "\n",
    "# OR\n",
    "# use a while-loop together with the \"next\" function to retrieve one tweet from the stream at a time\n",
    "index = 0\n",
    "while index < 4: \n",
    "    print(index, next(twitter_stream)) # the built-in \"next\" function retrieves the next item in an iterator\n",
    "    index += 1\n",
    "\n",
    "del twitter_stream, index"
   ]
  },
  {
   "cell_type": "markdown",
   "metadata": {},
   "source": [
    "Many sampling algorithms require \"tossing a coin\", that is, a psudo-random generator (PRG). To understand our data a little better, we will create a \"history-preserving\" PRG. It will basically work the same way as the `random` library."
   ]
  },
  {
   "cell_type": "code",
   "execution_count": 4,
   "metadata": {},
   "outputs": [
    {
     "name": "stdout",
     "output_type": "stream",
     "text": [
      "\"random\" method: 0.8444218515250481\n",
      "\"sample\" method: 6\n"
     ]
    }
   ],
   "source": [
    "from random import Random\n",
    "from collections import defaultdict\n",
    "\n",
    "class HistPresvRandom:\n",
    "    \"\"\"\n",
    "    History-preserving Random Number Generator\n",
    "    \"\"\"\n",
    "    \n",
    "    def __init__(self, seed=None):\n",
    "        self.prg = Random(seed)\n",
    "        self.hist = defaultdict(list)\n",
    "    \n",
    "    def random(self): # works exactly like random.random()\n",
    "        num = self.prg.random()\n",
    "        self.hist[\"random\"].append(num)\n",
    "        return num\n",
    "    \n",
    "    def sample(self, population): # works exactly like random.sample(population, 1)[0]\n",
    "        num = self.prg.sample(population, 1)[0]\n",
    "        self.hist[\"sample\"].append(num)\n",
    "        return num\n",
    "\n",
    "hist_presv_random = HistPresvRandom(0)\n",
    "print(f'\"random\" method: {hist_presv_random.random()}')\n",
    "print(f'\"sample\" method: {hist_presv_random.sample(range(10))}')\n",
    "\n",
    "del hist_presv_random"
   ]
  },
  {
   "cell_type": "markdown",
   "metadata": {},
   "source": [
    "_______\n",
    "#### Random Sampling\n",
    "\n",
    "Implement a random sampling algorithm. The `RandomSampler` object should behave the following way:\n",
    "\n",
    "* `_process_new_item`: it receives a single item and decides whether the item should be added to `self.sample`. It also ensures `self.counts` always has the most updated counts of emojis that are extracted from the tweets in `self.sample`. \n",
    "\n",
    "\n",
    "* `do_sampling`: it receives a stream object and iterates over the stream. During each iteration, it processes a new item as specified by the Random Sampling algorithm. Finally it returns a copy of `self.sample` and `self.counts` at every iteration (for historical reference and debugging)."
   ]
  },
  {
   "cell_type": "code",
   "execution_count": 5,
   "metadata": {
    "deletable": false,
    "nbgrader": {
     "checksum": "5d87b3565b9499baa4177d707f26f2d4",
     "grade": false,
     "grade_id": "cell-993d3b939f534f62",
     "locked": false,
     "schema_version": 1,
     "solution": true
    }
   },
   "outputs": [],
   "source": [
    "from collections import defaultdict\n",
    "\n",
    "class RandomSampler:\n",
    "    \n",
    "    def __init__(self, in_sample_prob, seed=None):\n",
    "        \n",
    "        self.in_sample_prob = in_sample_prob\n",
    "        self.random = HistPresvRandom(seed) # used whenever randomness is needed in your solution\n",
    "        self.sample, self.counts = list(), defaultdict(int) # recommended to use defaultdict, but an ordinary dict works fine too\n",
    "    \n",
    "    def _process_new_item(self, item):\n",
    "        \"\"\"\n",
    "        Applies random sampling to a newly arrived item\n",
    "        \"\"\"\n",
    "        \n",
    "        if self.random.random() < self.in_sample_prob:\n",
    "            self.sample.append(item)\n",
    "            for emoji in extract_emojis(item):\n",
    "                self.counts[emoji] += 1\n",
    "            \n",
    "    def do_sampling(self, stream):\n",
    "        \"\"\"\n",
    "        Iterates over a stream and performs random sampling\n",
    "        \"\"\"\n",
    "        \n",
    "        self.sample.clear() # clear the existing sample\n",
    "        self.counts.clear() # clear the existing counts\n",
    "        \n",
    "        for item in stream: # iterate over the stream\n",
    "            \n",
    "            self._process_new_item(item)\n",
    "            \n",
    "            # returns a copy of sample and counts at the end of every iteration for grading - code given\n",
    "            yield self.sample.copy(), self.counts.copy()"
   ]
  },
  {
   "cell_type": "markdown",
   "metadata": {},
   "source": [
    "Let's see the distribution of the processed tweets:"
   ]
  },
  {
   "cell_type": "code",
   "execution_count": 6,
   "metadata": {},
   "outputs": [
    {
     "name": "stdout",
     "output_type": "stream",
     "text": [
      "{'😂': 194, '😭': 69, '❤': 57, '🤣': 51, '✨': 50, '🏻': 40, '🔥': 37, '🥺': 35, '🙏': 32, '👏': 32, '😍': 30, '👍': 29, '♥': 23, '💕': 21, '🇸': 20, '♀': 20, '😅': 20, '☺': 18, '🥰': 17, '🇦': 16, '😎': 16, '🏽': 16, '💜': 16, '💚': 15, '🏾': 15, '😊': 14, '😆': 14, '😢': 14, '🍍': 14, '💪': 13, '😳': 13, '😩': 12, '‼': 12, '♂': 12, '🤭': 12, '💙': 11, '👇': 11, '💖': 10, '😱': 10, '💛': 10, '😹': 10, '🤔': 9, '🖤': 9, '🎉': 9, '🚨': 9, '🙄': 9, '♻': 9, '🙌': 8, '💦': 8, '❗': 8, '😷': 8, '🤷': 8, '😈': 8, '💀': 8, '⚡': 8, '😔': 7, '🥵': 7, '😁': 7, '⭕': 7, '🏅': 7, '💗': 7, '🌹': 7, '✌': 7, '⚠': 7, '😘': 6, '🌟': 6, '😌': 6, '🌸': 6, '🗣': 6, '🤪': 6, '😤': 6, '🤦': 6, '❣': 5, '🍑': 5, '💔': 5, '✊': 5, '🤤': 5, '💓': 5, '🦋': 5, '😇': 5, '💎': 5, '🇬': 5, '🇨': 5, '😥': 5, '⚰': 5, '🙂': 5, '👋': 5, '↙': 5, '👉': 5, '🐰': 5, '🐨': 5, '💣': 5, '🥳': 5, '✅': 5, '🐬': 5, '💘': 4, '😉': 4, '😐': 4, '🌺': 4, '💝': 4, '🇪': 4, '▶': 4, '🇧': 4, '👩': 4, '🙃': 4, '😄': 4, '😚': 4, '🤩': 4, '☀': 4, '🏃': 4, '⭐': 4, '▫': 4, '🇳': 4, '🔴': 4, '😙': 3, '🐶': 3, '☝': 3, '🇷': 3, '🥴': 3, '😡': 3, '👑': 3, '🇩': 3, '🇴': 3, '🎀': 3, '🇺': 3, '🇵': 3, '🔃': 3, '🤾': 3, '😃': 3, '😺': 3, '🎊': 3, '🙇': 3, '🤡': 3, '💥': 3, '🤫': 3, '☹': 3, '🌈': 3, '🤙': 3, '👀': 3, '🏼': 3, '😋': 3, '🇫': 3, '🎁': 3, '📱': 3, '💰': 3, '😜': 3, '💭': 3, '😀': 3, '↗': 3, '🇰': 3, '👊': 3, '🤘': 2, '☁': 2, '💞': 2, '📢': 2, '💻': 2, '👎': 2, '🔒': 2, '♠': 2, '🌾': 2, '🚫': 2, '🆘': 2, '😝': 2, '🙊': 2, '🌱': 2, '🎈': 2, '😴': 2, '🤨': 2, '😕': 2, '💯': 2, '🥋': 2, '🃏': 2, '⬇': 2, '🦠': 2, '🇲': 2, '🎵': 2, '🧟': 2, '😲': 2, '🤞': 2, '🌌': 2, '🥇': 2, '🍻': 2, '💠': 2, '🇱': 2, '👨': 2, '🍒': 2, '🌷': 2, '💢': 2, '👌': 2, '💃': 2, '🤟': 2, '👧': 2, '⬅': 2, '🌚': 2, '🍊': 2, '🎸': 2, '🥁': 2, '💍': 2, '💫': 2, '🔹': 2, '🔠': 2, '👆': 1, '\\U0001f971': 1, '🎴': 1, '👰': 1, '💐': 1, '🕺': 1, '🧠': 1, '✋': 1, '💌': 1, '☕': 1, '☃': 1, '\\U0001f90d': 1, '⚽': 1, '🐕': 1, '🐠': 1, '🦀': 1, '🙅': 1, '🇻': 1, '🍂': 1, '🤲': 1, '😟': 1, '😑': 1, '🇹': 1, '🤧': 1, '😣': 1, '😰': 1, '😨': 1, '😯': 1, '☎': 1, '🤕': 1, '🔗': 1, '👻': 1, '🐝': 1, '😞': 1, '🚀': 1, '🏐': 1, '🤢': 1, '🧢': 1, '🐙': 1, '🍛': 1, '🍰': 1, '🤮': 1, '⛄': 1, '🦉': 1, '🍋': 1, '♦': 1, '\\U0001f90e': 1, '👣': 1, '🦞': 1, '💶': 1, '✏': 1, '🤐': 1, '😻': 1, '📼': 1, '📣': 1, '◀': 1, '↖': 1, '🍳': 1, '🙋': 1, '📥': 1, '🏴': 1, '🗯': 1, '🏿': 1, '🎮': 1, '⛓': 1, '🥕': 1, '🔟': 1, '🌠': 1, '😠': 1, '🎤': 1, '⬆': 1, '👯': 1, '✖': 1, '🇶': 1, '🇿': 1, '🙆': 1, '🌝': 1, '👈': 1, '🐷': 1, '©': 1, '⏰': 1, '😒': 1, '™': 1, '🐴': 1, '🙈': 1, '🎶': 1, '🔞': 1, '🛑': 1, '☔': 1, '🤰': 1, '😬': 1, '🤚': 1, '🐑': 1, '💧': 1, '➡': 1, '🥈': 1, '🥉': 1, '🤬': 1, '🍫': 1, '🍣': 1, '🐸': 1, '🧚': 1, '🚶': 1, '⁉': 1, '🧐': 1, '📸': 1, '🎞': 1, '🔁': 1, '🙁': 1, '😪': 1, '📍': 1, '🛌': 1, '😏': 1, '❇': 1, '🐿': 1, '❄': 1, '🐐': 1, '😗': 1, '🌙': 1, '🍇': 1, '🤓': 1, '📲': 1, '🇼': 1, '⚓': 1, '🏳': 1, '🥂': 1, '🐾': 1, '😛': 1, '🔵': 1, '🏆': 1, '🐯': 1, '👤': 1, '💁': 1}\n"
     ]
    }
   ],
   "source": [
    "in_sample_prob, seed = 0.1, 42\n",
    "random_sample = RandomSampler(in_sample_prob, seed)\n",
    "twitter_stream = TwitterStream(\"../assets/tweets\")\n",
    "\n",
    "# Do sampling. Don't have to collect the results. Just exhaust the stream\n",
    "for _ in random_sample.do_sampling(twitter_stream):\n",
    "    pass\n",
    "\n",
    "sorted_counts = {emoji: random_sample.counts[emoji] for emoji in sorted(random_sample.counts.keys(), key=random_sample.counts.get, reverse=True)}\n",
    "print(sorted_counts)"
   ]
  },
  {
   "cell_type": "markdown",
   "metadata": {},
   "source": [
    "Visualised in a bar graph, the emoji distribution seems to resemble a [Power Law](https://en.wikipedia.org/wiki/Power_law) distribution. A few emojis are used a lot while the majority of the emojis are rarely used. "
   ]
  },
  {
   "cell_type": "code",
   "execution_count": 7,
   "metadata": {},
   "outputs": [],
   "source": [
    "import matplotlib.pyplot as plt\n",
    "\n",
    "fig, ax = plt.subplots(figsize=(10, 6))\n",
    "ax.bar(range(len(sorted_counts)), sorted_counts.values())\n",
    "ax.set_xlabel(\"Rank\")\n",
    "ax.set_ylabel(\"Frequency\")\n",
    "ax.set_title(\"Emoji Distribution\")\n",
    "\n",
    "del fig, ax"
   ]
  },
  {
   "cell_type": "markdown",
   "metadata": {},
   "source": [
    "_______\n",
    "#### Reservoir Sampling\n",
    "\n",
    "Implement a reservoir sampling function that does the following:\n",
    "\n",
    "* `_process_new_item`: it receives a single item as well as the index of the item in the stream, and decides whether the item should be added to `self.sample`. **Append the new item to the end of the `self.sample` instead of replacing an old item with it.** Function also ensures `self.counts` always has the most updated counts of emojis that are extracted from the tweets *currently* in `self.sample`, which means that **the counts of emojis must be adjusted in the event of adding or removing an emoji to/from the sample**. Moreover, an emoji with a count of zero must be completely dropped from `self.counts`. \n",
    "\n",
    "\n",
    "* `do_sampling`: it receives a stream object and iterates over the stream. During each iteration, it processes a new item as specified by the Reservoir Sampling algorithm. Finally it returns a copy of `self.sample` and `self.counts` at every iteration (for historical reference and debugging)."
   ]
  },
  {
   "cell_type": "code",
   "execution_count": 8,
   "metadata": {
    "deletable": false,
    "nbgrader": {
     "checksum": "78e4cfe51f1aeed503f42a632eabbb5a",
     "grade": false,
     "grade_id": "cell-e896207bcc59798b",
     "locked": false,
     "schema_version": 1,
     "solution": true
    }
   },
   "outputs": [],
   "source": [
    "from collections import defaultdict\n",
    "\n",
    "class ReservoirSampler:\n",
    "    \n",
    "    def __init__(self, sample_size, seed=None):\n",
    "        \n",
    "        self.sample_size = sample_size\n",
    "        self.random = HistPresvRandom(seed) # used whenever randomness is needed in your solution\n",
    "        self.sample, self.counts = list(), defaultdict(int)\n",
    "    \n",
    "    def _process_new_item(self, item, index):\n",
    "        \"\"\"\n",
    "        Decides whether a new item should be added to the sample and adjusts the counts accordingly\n",
    "        \"\"\"\n",
    "\n",
    "        if len(self.sample) < self.sample_size:\n",
    "            self.sample.append(item)\n",
    "            for emoji in extract_emojis(item):\n",
    "                self.counts[emoji] += 1\n",
    "        else:\n",
    "            coinflip = int(self.random.random() * index)\n",
    "            index += 1\n",
    "            if coinflip < self.sample_size:\n",
    "                sample_item_to_delete = self.random.sample(self.sample)\n",
    "                for emoji in extract_emojis(sample_item_to_delete):\n",
    "                    self.counts[emoji] -=1\n",
    "                    if self.counts[emoji] == 0:\n",
    "                        del self.counts[emoji]#my_dict['key']\n",
    "                self.sample.remove(sample_item_to_delete)\n",
    "                #del self.sample[self.sample.index(sample_item_to_delete)]\n",
    "                self.sample.append(item)\n",
    "                for emoji in extract_emojis(self.sample[-1]):\n",
    "                    self.counts[emoji] += 1\n",
    "        \n",
    "    \n",
    "    def do_sampling(self, stream):\n",
    "        \"\"\"\n",
    "        Iterates over a stream and performs reservoir sampling\n",
    "        \"\"\"\n",
    "        \n",
    "        self.sample.clear() # clear the existing sample\n",
    "        self.counts.clear() # clear the existing counts\n",
    "        \n",
    "        for index, item in enumerate(stream): # iterate over the stream\n",
    "            self._process_new_item(item, index)\n",
    "            \n",
    "            # returns a copy of sample and counts at the end of every iteration for grading - code given\n",
    "            yield self.sample.copy(), self.counts.copy()\n",
    "            \n"
   ]
  },
  {
   "cell_type": "markdown",
   "metadata": {},
   "source": [
    "Let's see the distribution of the processed tweets:"
   ]
  },
  {
   "cell_type": "markdown",
   "metadata": {
    "deletable": false,
    "editable": false,
    "nbgrader": {
     "checksum": "0d253e5929be20e48bf8404376b52035",
     "grade": false,
     "grade_id": "cell-7b82d6fd627b1ffe",
     "locked": true,
     "schema_version": 1,
     "solution": false
    }
   },
   "source": [
    "Let's see what the emoji distribution is after all tweets are processed."
   ]
  },
  {
   "cell_type": "code",
   "execution_count": 9,
   "metadata": {},
   "outputs": [
    {
     "name": "stdout",
     "output_type": "stream",
     "text": [
      "{'😭': 24, '🥰': 18, '❤': 11, '😂': 8, '💙': 8, '🥺': 7, '😍': 7, '🇸': 6, '🇺': 5, '✨': 4, '‼': 4, '♂': 3, '🏆': 3, '👍': 2, '💕': 2, '☺': 2, '❗': 2, '😘': 2, '👩': 2, '🙃': 2, '😋': 2, '🔥': 2, '👑': 2, '♥': 2, '😩': 2, '💚': 1, '😏': 1, '🎶': 1, '☀': 1, '🎵': 1, '👇': 1, '🏼': 1, '🐟': 1, '🤦': 1, '🐰': 1, '👫': 1, '💋': 1, '😈': 1, '🏀': 1, '🏈': 1, '🎤': 1, '😠': 1, '🌈': 1, '🇦': 1, '⚽': 1, '✌': 1, '😷': 1, '🏻': 1, '🤓': 1, '🤷': 1, '🏿': 1, '🐳': 1, '💰': 1, '✅': 1, '🥇': 1, '👏': 1, '👉': 1, '\\U0001f9be': 1, '😞': 1, '📸': 1, '🤑': 1, '🙏': 1, '🏾': 1, '🙆': 1, '🏽': 1, '🍪': 1, '😇': 1, '😉': 1, '🥴': 1, '🏯': 1, '🦅': 1, '😱': 1, '😓': 1, '🤗': 1, '💓': 1, '😤': 1, '🐱': 1, '🐥': 1, '🍼': 1, '😪': 1}\n"
     ]
    }
   ],
   "source": [
    "sample_size, seed = 100, 0\n",
    "stu_ans = ReservoirSampler(sample_size, seed)\n",
    "\n",
    "# Do sampling. Don't have to collect the results. Just exhaust the stream\n",
    "for _ in stu_ans.do_sampling(TwitterStream(\"../assets/tweets\")):\n",
    "    pass\n",
    "\n",
    "sorted_counts = {emoji: stu_ans.counts[emoji] for emoji in sorted(stu_ans.counts.keys(), key=stu_ans.counts.get, reverse=True)}\n",
    "print(sorted_counts)"
   ]
  },
  {
   "cell_type": "markdown",
   "metadata": {},
   "source": [
    "Visualised in a bar graph, the emoji distribution seems to somewhat resemble a [Power Law](https://en.wikipedia.org/wiki/Power_law) distribution, too. A few emojis are used a lot while the majority of the emojis are rarely used. \n",
    "\n",
    "The distribution looks much like the Random Sampling, though the most used are not identical. "
   ]
  },
  {
   "cell_type": "code",
   "execution_count": 10,
   "metadata": {},
   "outputs": [
    {
     "data": {
      "image/png": "[encoded data removed]",
      "text/plain": [
       "<Figure size 720x432 with 1 Axes>"
      ]
     },
     "metadata": {
      "needs_background": "light"
     },
     "output_type": "display_data"
    }
   ],
   "source": [
    "fig, ax = plt.subplots(figsize=(10, 6))\n",
    "ax.bar(range(len(sorted_counts)), sorted_counts.values())\n",
    "ax.set_xlabel(\"Rank\")\n",
    "ax.set_ylabel(\"Frequency\")\n",
    "ax.set_title(\"Emoji Distribution\")\n",
    "\n",
    "del fig, ax"
   ]
  },
  {
   "cell_type": "markdown",
   "metadata": {},
   "source": [
    "____________\n",
    "____________\n",
    "#### Counting in a Data Stream\n",
    "\n",
    "Implementing algorithms for counting items in a data stream. As previously mentioned, with a data stream we have limited storage capacity for for a high volume of data, which can come in at a high velocity. In cases of checking for distributions of some simly items, like emoji usage, it might be possible to obtain approximate counts directly without curating a whole sample like with the sampling exercises.\n",
    "\n",
    "_____\n",
    "#### Bloom Filters\n",
    "First, we are going to look at a Bloom filter. This means that it is not actually counting the items in a data stream, but can tell that\n",
    "* an item has <i>definitely not appeared</i> in the data stream so far, or\n",
    "* an item has <i>possibly appeared</i> in the data stream so far\n",
    "\n",
    "The Bloom filter will contain two functions:\n",
    "* `check_appearance`: it receives a single item and returns a `bool` value indicating whether the item has appeared or not so far;\n",
    "\n",
    "* `do_filtering`: it receives a stream object and iterates over the stream. During each iteration, it extracts all emojis from a tweet, computes the fingerprint of each emoji and records the appearance of each emoji accordingly, as specified in the lecture slides. Finally, it returns a copy of the `slots` of your `BloomFilter` for debugging.\n",
    "\n",
    "First, we need a `HashFunction` class that provides simple and deterministic hash functions."
   ]
  },
  {
   "cell_type": "code",
   "execution_count": 11,
   "metadata": {},
   "outputs": [],
   "source": [
    "class HashFunction:\n",
    "    def __init__(self, num_slots):\n",
    "        self.num_slots = num_slots\n",
    "        \n",
    "    def __call__(self, x):\n",
    "        return (hash(self) + hash(x)) % self.num_slots"
   ]
  },
  {
   "cell_type": "code",
   "execution_count": 12,
   "metadata": {},
   "outputs": [
    {
     "name": "stdout",
     "output_type": "stream",
     "text": [
      "250 446\n",
      "250 446\n"
     ]
    }
   ],
   "source": [
    "# Check hash function\n",
    "h1, h2 = HashFunction(7919), HashFunction(7919)\n",
    "\n",
    "# The two hash functions are distinct, but both are deterministic\n",
    "print(h1(\"😂\"), h2(\"😂\"))\n",
    "print(h1(\"😂\"), h2(\"😂\"))\n",
    "\n",
    "del h1, h2"
   ]
  },
  {
   "cell_type": "markdown",
   "metadata": {},
   "source": [
    "<b>Note:</b> The two different instantiations of the `HashFunction` class lead to two distinct hash functions. They assign different fingerprints to the same emoji, but both are deterministic. They will always have the same fingerprint for each emoji, regardless of how many times they are applied. They can be re-run and return different fingerprints, but they will always be deterministic. (This is relevant for any future debugging.)"
   ]
  },
  {
   "cell_type": "code",
   "execution_count": 13,
   "metadata": {},
   "outputs": [],
   "source": [
    "import numpy as np\n",
    "\n",
    "class BloomFilter:\n",
    "    \n",
    "    def __init__(self, num_slots, num_hash_fns):\n",
    "        \n",
    "        self.slots = np.zeros(num_slots, dtype=int)\n",
    "        self.hash_fns = [HashFunction(num_slots) for _ in range(num_hash_fns)] # A list of distinct hash functions\n",
    "    \n",
    "    def check_appearance(self, item):\n",
    "        \"\"\"\n",
    "        Returns a bool value indicating whether an item has appeared or not\n",
    "        \"\"\"\n",
    "        \n",
    "        has_appeared = None\n",
    "\n",
    "        for emoji in extract_emojis(item):\n",
    "            seen = []\n",
    "            for i in self.hash_fns:\n",
    "                if self.slots[i(emoji)] == 1:\n",
    "                    seen.append(True)\n",
    "                else:\n",
    "                    seen.append(False)\n",
    "\n",
    "            if all(seen) == True:\n",
    "                has_appeared = np.bool_(True)\n",
    "            else:\n",
    "                has_appeared = np.bool_(False)\n",
    "        \n",
    "        return has_appeared\n",
    "    \n",
    "    def do_filtering(self, stream):\n",
    "        \"\"\"\n",
    "        Iterates over a stream, collects items of interest, calculates the fingerprints and records the appearance\n",
    "        \"\"\"\n",
    "        \n",
    "        self.slots = np.zeros_like(self.slots) # reset the slots\n",
    "        \n",
    "        for item in stream: # iterate over the stream\n",
    "\n",
    "            for emoji in extract_emojis(item):\n",
    "                if self.check_appearance(emoji) == False:\n",
    "                    for i in self.hash_fns:\n",
    "                        self.slots[i(emoji)] = 1\n",
    "            \n",
    "            \n",
    "            # returns a copy of slots at the end of every iteration for grading - code given\n",
    "            yield self.slots.copy()"
   ]
  },
  {
   "cell_type": "code",
   "execution_count": 14,
   "metadata": {},
   "outputs": [],
   "source": [
    "twitter_stream = TwitterStream(\"../assets/tweets\")\n",
    "num_slots, num_hash_fns = 7919, 5\n",
    "bloom_filter = BloomFilter(num_slots, num_hash_fns)\n",
    "\n",
    "# Collect emojis that appeared and that didn't appear\n",
    "emojis_appeared = set()\n",
    "for tweet in twitter_stream:\n",
    "    emojis_appeared = emojis_appeared.union(extract_emojis(tweet))\n",
    "emojis_not_appeared = set(UNICODE_EMOJI.keys()) - emojis_appeared\n",
    "\n",
    "# Do filtering. Don't have to collect the results. Just exhaust the stream\n",
    "for _ in bloom_filter.do_filtering(twitter_stream):\n",
    "    pass"
   ]
  },
  {
   "cell_type": "markdown",
   "metadata": {},
   "source": [
    "Check if a certain emoji has occurred:"
   ]
  },
  {
   "cell_type": "code",
   "execution_count": 15,
   "metadata": {},
   "outputs": [
    {
     "data": {
      "text/plain": [
       "True"
      ]
     },
     "execution_count": 15,
     "metadata": {},
     "output_type": "execute_result"
    }
   ],
   "source": [
    "bloom_filter.check_appearance(\"😂\")"
   ]
  },
  {
   "cell_type": "code",
   "execution_count": 16,
   "metadata": {},
   "outputs": [
    {
     "data": {
      "text/plain": [
       "True"
      ]
     },
     "execution_count": 16,
     "metadata": {},
     "output_type": "execute_result"
    }
   ],
   "source": [
    "bloom_filter.check_appearance(\"🦠\")"
   ]
  },
  {
   "cell_type": "markdown",
   "metadata": {},
   "source": [
    "_____\n",
    "#### Lossy Counter\n",
    "Let's try a Lossy Counter. The counter should maintain counts of all emojis seen so far, and only update counts once a \"bucket\" of tweets arrive. The \"update\" of counts should include increments due to the emojis contained in the new bucket and decrements because we want to gradually get rid of less recent emojis. "
   ]
  },
  {
   "cell_type": "code",
   "execution_count": 17,
   "metadata": {},
   "outputs": [],
   "source": [
    "from collections import defaultdict\n",
    "\n",
    "class LossyCounter:\n",
    "    \n",
    "    def __init__(self, bucket_size):\n",
    "        \n",
    "        self.bucket_size = bucket_size\n",
    "        self.counts = defaultdict(int) # recommended to use defaultdict, but an ordinary dict works fine too\n",
    "    \n",
    "    def do_counting(self, stream):\n",
    "        \"\"\"\n",
    "        Iterates over a stream, counts the items and drops the infrequent ones in a bucket\n",
    "        \"\"\"\n",
    "        \n",
    "        self.counts.clear() # reset the counts\n",
    "        num_items_in_bucket = 0 # optional: the current number of items in the \"bucket\"\n",
    "        \n",
    "        for item in stream: # iterate over the stream\n",
    "            num_items_in_bucket += 1 # possible issue? ****\n",
    "            \n",
    "            if num_items_in_bucket < self.bucket_size:\n",
    "                for emoji in extract_emojis(item):\n",
    "                    self.counts[emoji] += 1\n",
    "                yield self.counts.copy()\n",
    "                continue\n",
    "    \n",
    "#             print(num_items_in_bucket)\n",
    "            for emoji in extract_emojis(item):\n",
    "                self.counts[emoji] += 1\n",
    "\n",
    "            # Decrement existing counts to leave just more relevant ones\n",
    "            to_del = []    \n",
    "            for k,v in self.counts.items():\n",
    "                if self.counts[k] > 1:\n",
    "                    self.counts[k] -= 1\n",
    "                else:\n",
    "                    to_del.append(k)\n",
    "\n",
    "            for i in to_del:\n",
    "                del self.counts[i]\n",
    "\n",
    "                \n",
    "                # Reset variables\n",
    "                num_items_in_bucket = 0\n",
    "#                 print(num_items_in_bucket)\n",
    "                bucket_counts = defaultdict(int)\n",
    "\n",
    "\n",
    "            # returns a copy of counts at the end of every iteration for grading - code given\n",
    "            yield self.counts.copy()"
   ]
  },
  {
   "cell_type": "code",
   "execution_count": 18,
   "metadata": {},
   "outputs": [
    {
     "name": "stdout",
     "output_type": "stream",
     "text": [
      "{'😂': 1304, '😭': 911, '❤': 592, '🤣': 401, '🥺': 318, '✨': 317, '🥰': 236, '🔥': 231, '🏻': 228, '🙏': 207, '😍': 205, '💙': 175, '👏': 106, '♥': 97, '♀': 94, '😊': 77, '👍': 72, '💕': 69, '☺': 53, '‼': 47, '🤔': 44, '♂': 25, '💜': 22, '🏼': 21, '😅': 18, '👇': 16, '💦': 13, '😔': 13, '💔': 12, '🤒': 11, '🙇': 11, '💎': 11, '⭐': 10, '😢': 10, '🤦': 9, '👑': 9, '🌸': 7, '😆': 7, '🏾': 7, '🏷': 7, '🏽': 6, '😘': 6, '🤷': 6, '💀': 5, '🙄': 5, '❗': 5, '💢': 5, '💚': 4, '😋': 4, '🇸': 4, '😹': 4, '🤐': 4, '👥': 4, '💥': 4, '💛': 3, '🐥': 3, '😡': 2, '🎁': 2, '💪': 2, '😠': 2, '🤤': 2, '🚨': 2, '🤪': 2, '📣': 2, '😀': 2, '🍆': 2, '😏': 2, '🤮': 1, '😩': 1, '🤭': 1, '🔘': 1, '🖤': 1, '😃': 1, '👀': 1, '▶': 1, '😷': 1, '😁': 1, '〰': 1}\n"
     ]
    }
   ],
   "source": [
    "bucket_size = 100\n",
    "lossy_cnt = LossyCounter(bucket_size)\n",
    "\n",
    "# Do counting. Don't have to collect the results. Just exhaust the stream\n",
    "for _ in lossy_cnt.do_counting(TwitterStream(\"../assets/tweets\")):\n",
    "    pass\n",
    "\n",
    "sorted_counts = {emoji: lossy_cnt.counts[emoji] for emoji in sorted(lossy_cnt.counts.keys(), key=lossy_cnt.counts.get, reverse=True)}\n",
    "print(sorted_counts)"
   ]
  },
  {
   "cell_type": "markdown",
   "metadata": {},
   "source": [
    "Yet again, visualised in a bar graph, the emoji distribution seems to resemble a [Power Law](https://en.wikipedia.org/wiki/Power_law) distribution. A few emojis are used a lot while the majority of the emojis are rarely used. "
   ]
  },
  {
   "cell_type": "code",
   "execution_count": 19,
   "metadata": {},
   "outputs": [
    {
     "data": {
      "image/png": "[encoded data removed]",
      "text/plain": [
       "<Figure size 720x432 with 1 Axes>"
      ]
     },
     "metadata": {
      "needs_background": "light"
     },
     "output_type": "display_data"
    }
   ],
   "source": [
    "fig, ax = plt.subplots(figsize=(10, 6))\n",
    "ax.bar(range(len(sorted_counts)), sorted_counts.values())\n",
    "ax.set_xlabel(\"Rank\")\n",
    "ax.set_ylabel(\"Frequency\")\n",
    "ax.set_title(\"Emoji Distribution\")\n",
    "\n",
    "del fig, ax"
   ]
  },
  {
   "cell_type": "markdown",
   "metadata": {},
   "source": [
    "______________________\n",
    "<div style=\"text-align: right\"><sub>Exercise adapted and modified from UMSI homework assignment for SIADS 632.</sub></div>"
   ]
  }
 ],
 "metadata": {
  "coursera": {
   "schema_names": [
    "mads_data_mining_ii_v1_assignment4_part1"
   ]
  },
  "kernelspec": {
   "display_name": "Python 3",
   "language": "python",
   "name": "python3"
  },
  "language_info": {
   "codemirror_mode": {
    "name": "ipython",
    "version": 3
   },
   "file_extension": ".py",
   "mimetype": "text/x-python",
   "name": "python",
   "nbconvert_exporter": "python",
   "pygments_lexer": "ipython3",
   "version": "3.7.3"
  }
 },
 "nbformat": 4,
 "nbformat_minor": 1
}
