{
 "cells": [
  {
   "cell_type": "markdown",
   "metadata": {},
   "source": [
    "## Spark + Yelp Exercise, pt. 2\n",
    "Spark exercise leveraging the Yelp Academic Dataset to improve familiarity with PySpark and work on basics of Spark SQL. This exercise will leverage `spark.sql()` calls to query datasets and use fewest number of steps.\n",
    "\n",
    "`%%time` functions included, but results may vary by operating system configuration.\n",
    "_________________________\n",
    "\n",
    "First, spin up a Spark session."
   ]
  },
  {
   "cell_type": "code",
   "execution_count": 1,
   "metadata": {},
   "outputs": [],
   "source": [
    "from pyspark.sql import SparkSession\n",
    "spark = SparkSession \\\n",
    "    .builder \\\n",
    "    .master(\"local[*]\") \\\n",
    "    .appName('My First Spark application') \\\n",
    "    .getOrCreate() \n",
    "\n",
    "sc = spark.sparkContext"
   ]
  },
  {
   "cell_type": "markdown",
   "metadata": {},
   "source": [
    "Load datasets."
   ]
  },
  {
   "cell_type": "code",
   "execution_count": 2,
   "metadata": {},
   "outputs": [],
   "source": [
    "# business = spark.read.json('../assets/yelp_academic/yelp_academic_dataset_business.json.gz')\n",
    "# checkin = spark.read.json('../assets/yelp_academic/yelp_academic_dataset_checkin.json.gz')\n",
    "# review = spark.read.json('../assets/yelp_academic/yelp_academic_dataset_review.json.gz')\n",
    "# tip = spark.read.json('../assets/yelp_academic/yelp_academic_dataset_tip.json.gz')\n",
    "# user = spark.read.json('../assets/yelp_academic/yelp_academic_dataset_user.json.gz')\n",
    "\n",
    "business = spark.read.json('data/yelp_academic/yelp_academic_dataset_business.json.gz')\n",
    "checkin = spark.read.json('data/yelp_academic/yelp_academic_dataset_checkin.json.gz')\n",
    "review = spark.read.json('data/yelp_academic/yelp_academic_dataset_review.json.gz')\n",
    "tip = spark.read.json('data/yelp_academic/yelp_academic_dataset_tip.json.gz')\n",
    "user = spark.read.json('data/yelp_academic/yelp_academic_dataset_user.json.gz')"
   ]
  },
  {
   "cell_type": "markdown",
   "metadata": {},
   "source": [
    "Create temp views for DataFrames (act like hive table). Data will only be cached after `.count` call."
   ]
  },
  {
   "cell_type": "code",
   "execution_count": 3,
   "metadata": {},
   "outputs": [],
   "source": [
    "business.createOrReplaceTempView(\"business\")\n",
    "checkin.createOrReplaceTempView(\"checkin\")\n",
    "tip.createOrReplaceTempView(\"tip\")\n",
    "review.createOrReplaceTempView(\"review\")\n",
    "user.createOrReplaceTempView(\"user\")"
   ]
  },
  {
   "cell_type": "markdown",
   "metadata": {},
   "source": [
    "### Exercise Questions:\n",
    "\n",
    "#### How many users have more than 500 fans?"
   ]
  },
  {
   "cell_type": "code",
   "execution_count": 4,
   "metadata": {},
   "outputs": [
    {
     "name": "stdout",
     "output_type": "stream",
     "text": [
      "CPU times: user 1.27 ms, sys: 1.94 ms, total: 3.21 ms\n",
      "Wall time: 17.3 s\n"
     ]
    },
    {
     "data": {
      "text/plain": [
       "185"
      ]
     },
     "execution_count": 4,
     "metadata": {},
     "output_type": "execute_result"
    }
   ],
   "source": [
    "%%time\n",
    "\n",
    "query = \"\"\"SELECT * FROM user WHERE fans > 500\"\"\"\n",
    "\n",
    "spark.sql(query).count()"
   ]
  },
  {
   "cell_type": "markdown",
   "metadata": {},
   "source": [
    "#### How many businesses from Madison, Wisconsin are represented in the dataset?"
   ]
  },
  {
   "cell_type": "code",
   "execution_count": 5,
   "metadata": {},
   "outputs": [
    {
     "name": "stdout",
     "output_type": "stream",
     "text": [
      "CPU times: user 1.4 ms, sys: 0 ns, total: 1.4 ms\n",
      "Wall time: 1.4 s\n"
     ]
    },
    {
     "data": {
      "text/plain": [
       "3493"
      ]
     },
     "execution_count": 5,
     "metadata": {},
     "output_type": "execute_result"
    }
   ],
   "source": [
    "%%time\n",
    "\n",
    "query = \"\"\"\n",
    "SELECT * \n",
    "FROM business \n",
    "WHERE city ='Madison' AND state='WI'\n",
    "\"\"\"\n",
    "\n",
    "spark.sql(query).count()"
   ]
  },
  {
   "cell_type": "markdown",
   "metadata": {},
   "source": [
    "#### How many users have contributed only one review?"
   ]
  },
  {
   "cell_type": "code",
   "execution_count": 6,
   "metadata": {},
   "outputs": [
    {
     "name": "stdout",
     "output_type": "stream",
     "text": [
      "+------+\n",
      "| users|\n",
      "+------+\n",
      "|298779|\n",
      "+------+\n",
      "\n",
      "CPU times: user 2.97 ms, sys: 414 µs, total: 3.38 ms\n",
      "Wall time: 19.6 s\n"
     ]
    }
   ],
   "source": [
    "%%time\n",
    "\n",
    "query = \"\"\"\n",
    "SELECT COUNT(DISTINCT(user_id)) as users\n",
    "FROM user\n",
    "WHERE review_count = 1\n",
    "\"\"\"\n",
    "\n",
    "query = spark.sql(query).show()"
   ]
  },
  {
   "cell_type": "markdown",
   "metadata": {},
   "source": [
    "#### How many businesses are north of the Mason-Dixon Line?\n",
    "\n",
    "https://en.wikipedia.org/wiki/Mason%E2%80%93Dixon_line"
   ]
  },
  {
   "cell_type": "code",
   "execution_count": 7,
   "metadata": {},
   "outputs": [
    {
     "name": "stdout",
     "output_type": "stream",
     "text": [
      "+----------+\n",
      "|businesses|\n",
      "+----------+\n",
      "|      9244|\n",
      "+----------+\n",
      "\n",
      "CPU times: user 1.76 ms, sys: 0 ns, total: 1.76 ms\n",
      "Wall time: 1.79 s\n"
     ]
    }
   ],
   "source": [
    "%%time\n",
    "\n",
    "# Assuming Mason-Dixon Latitude of 39º43'19.92216\" N (39.7222006) \n",
    "# and boundary end at Longitude 075º47'19.93851' W (075.78859403055556)\n",
    "# (converted to decimals using https://www.directionsmag.com/site/latlong-converter/)\n",
    "\n",
    "query = \"\"\"\n",
    "SELECT COUNT(DISTINCT(business_id)) as businesses\n",
    "FROM business\n",
    "WHERE latitude > 39.7222006 and longitude > -75.78859403055556\n",
    "\"\"\"\n",
    "\n",
    "query = spark.sql(query).show()"
   ]
  },
  {
   "cell_type": "markdown",
   "metadata": {},
   "source": [
    "#### Which non-US states are represented in the dataset?\n",
    "\n",
    "- List the distinct state codes that are not in a list of US codes.\n",
    "- It is assumed that the state codes are only the traditional US states, and not any commonwealth or territories.\n",
    "- Helpful list of state abbreviations for easy c/p: https://gist.github.com/JeffPaine/3083347"
   ]
  },
  {
   "cell_type": "code",
   "execution_count": 8,
   "metadata": {},
   "outputs": [
    {
     "name": "stdout",
     "output_type": "stream",
     "text": [
      "+------+\n",
      "|non_us|\n",
      "+------+\n",
      "|   BAS|\n",
      "|    QC|\n",
      "|    BC|\n",
      "|   XGL|\n",
      "|   XGM|\n",
      "|   DUR|\n",
      "|   DOW|\n",
      "|    ON|\n",
      "|    AB|\n",
      "|   CON|\n",
      "|   XWY|\n",
      "+------+\n",
      "\n",
      "CPU times: user 976 µs, sys: 767 µs, total: 1.74 ms\n",
      "Wall time: 1.39 s\n"
     ]
    }
   ],
   "source": [
    "%%time\n",
    "\n",
    "query = \"\"\"\n",
    "SELECT DISTINCT(state) as non_us\n",
    "FROM business\n",
    "WHERE state NOT IN (\"AL\", \"AK\", \"AZ\", \"AR\", \"CA\", \"CO\", \"CT\", \"DC\", \"DE\", \"FL\", \"GA\", \n",
    "          \"HI\", \"ID\", \"IL\", \"IN\", \"IA\", \"KS\", \"KY\", \"LA\", \"ME\", \"MD\", \n",
    "          \"MA\", \"MI\", \"MN\", \"MS\", \"MO\", \"MT\", \"NE\", \"NV\", \"NH\", \"NJ\", \n",
    "          \"NM\", \"NY\", \"NC\", \"ND\", \"OH\", \"OK\", \"OR\", \"PA\", \"RI\", \"SC\", \n",
    "          \"SD\", \"TN\", \"TX\", \"UT\", \"VT\", \"VA\", \"WA\", \"WV\", \"WI\", \"WY\")\n",
    "\"\"\"\n",
    "\n",
    "query = spark.sql(query).show()"
   ]
  },
  {
   "cell_type": "markdown",
   "metadata": {},
   "source": [
    "#### Which US states are represented in the dataset? Use full names of states."
   ]
  },
  {
   "cell_type": "code",
   "execution_count": 9,
   "metadata": {},
   "outputs": [
    {
     "name": "stdout",
     "output_type": "stream",
     "text": [
      "There are 25 states represented in the dataset.\n",
      "CPU times: user 250 ms, sys: 24.8 ms, total: 275 ms\n",
      "Wall time: 1.62 s\n"
     ]
    },
    {
     "data": {
      "text/html": [
       "<div>\n",
       "<style scoped>\n",
       "    .dataframe tbody tr th:only-of-type {\n",
       "        vertical-align: middle;\n",
       "    }\n",
       "\n",
       "    .dataframe tbody tr th {\n",
       "        vertical-align: top;\n",
       "    }\n",
       "\n",
       "    .dataframe thead th {\n",
       "        text-align: right;\n",
       "    }\n",
       "</style>\n",
       "<table border=\"1\" class=\"dataframe\">\n",
       "  <thead>\n",
       "    <tr style=\"text-align: right;\">\n",
       "      <th></th>\n",
       "      <th>state</th>\n",
       "    </tr>\n",
       "  </thead>\n",
       "  <tbody>\n",
       "    <tr>\n",
       "      <th>0</th>\n",
       "      <td>Arizona</td>\n",
       "    </tr>\n",
       "    <tr>\n",
       "      <th>1</th>\n",
       "      <td>South Carolina</td>\n",
       "    </tr>\n",
       "    <tr>\n",
       "      <th>3</th>\n",
       "      <td>New Jersey</td>\n",
       "    </tr>\n",
       "    <tr>\n",
       "      <th>4</th>\n",
       "      <td>Virginia</td>\n",
       "    </tr>\n",
       "    <tr>\n",
       "      <th>7</th>\n",
       "      <td>Nevada</td>\n",
       "    </tr>\n",
       "    <tr>\n",
       "      <th>8</th>\n",
       "      <td>Wisconsin</td>\n",
       "    </tr>\n",
       "    <tr>\n",
       "      <th>9</th>\n",
       "      <td>California</td>\n",
       "    </tr>\n",
       "    <tr>\n",
       "      <th>10</th>\n",
       "      <td>Nebraska</td>\n",
       "    </tr>\n",
       "    <tr>\n",
       "      <th>11</th>\n",
       "      <td>Connecticut</td>\n",
       "    </tr>\n",
       "    <tr>\n",
       "      <th>12</th>\n",
       "      <td>North Carolina</td>\n",
       "    </tr>\n",
       "    <tr>\n",
       "      <th>13</th>\n",
       "      <td>Vermont</td>\n",
       "    </tr>\n",
       "    <tr>\n",
       "      <th>14</th>\n",
       "      <td>Illinois</td>\n",
       "    </tr>\n",
       "    <tr>\n",
       "      <th>16</th>\n",
       "      <td>Washington</td>\n",
       "    </tr>\n",
       "    <tr>\n",
       "      <th>17</th>\n",
       "      <td>Alabama</td>\n",
       "    </tr>\n",
       "    <tr>\n",
       "      <th>19</th>\n",
       "      <td>Ohio</td>\n",
       "    </tr>\n",
       "    <tr>\n",
       "      <th>20</th>\n",
       "      <td>Tennessee</td>\n",
       "    </tr>\n",
       "    <tr>\n",
       "      <th>21</th>\n",
       "      <td>New Mexico</td>\n",
       "    </tr>\n",
       "    <tr>\n",
       "      <th>23</th>\n",
       "      <td>Pennsylvania</td>\n",
       "    </tr>\n",
       "    <tr>\n",
       "      <th>25</th>\n",
       "      <td>New York</td>\n",
       "    </tr>\n",
       "    <tr>\n",
       "      <th>29</th>\n",
       "      <td>Texas</td>\n",
       "    </tr>\n",
       "    <tr>\n",
       "      <th>31</th>\n",
       "      <td>Georgia</td>\n",
       "    </tr>\n",
       "    <tr>\n",
       "      <th>32</th>\n",
       "      <td>Florida</td>\n",
       "    </tr>\n",
       "    <tr>\n",
       "      <th>33</th>\n",
       "      <td>Alaska</td>\n",
       "    </tr>\n",
       "    <tr>\n",
       "      <th>34</th>\n",
       "      <td>Arkansas</td>\n",
       "    </tr>\n",
       "    <tr>\n",
       "      <th>35</th>\n",
       "      <td>Utah</td>\n",
       "    </tr>\n",
       "  </tbody>\n",
       "</table>\n",
       "</div>"
      ],
      "text/plain": [
       "             state\n",
       "0          Arizona\n",
       "1   South Carolina\n",
       "3       New Jersey\n",
       "4         Virginia\n",
       "7           Nevada\n",
       "8        Wisconsin\n",
       "9       California\n",
       "10        Nebraska\n",
       "11     Connecticut\n",
       "12  North Carolina\n",
       "13         Vermont\n",
       "14        Illinois\n",
       "16      Washington\n",
       "17         Alabama\n",
       "19            Ohio\n",
       "20       Tennessee\n",
       "21      New Mexico\n",
       "23    Pennsylvania\n",
       "25        New York\n",
       "29           Texas\n",
       "31         Georgia\n",
       "32         Florida\n",
       "33          Alaska\n",
       "34        Arkansas\n",
       "35            Utah"
      ]
     },
     "execution_count": 9,
     "metadata": {},
     "output_type": "execute_result"
    }
   ],
   "source": [
    "%%time\n",
    "import pandas as pd\n",
    "\n",
    "# Pull query\n",
    "states = spark.sql(\"SELECT DISTINCT state FROM business\").toPandas()\n",
    "\n",
    "# Generate list of name-to-code conversions\n",
    "state_list = {\"AL\":\"Alabama\",\"AK\":\"Alaska\",\"AZ\":\"Arizona\",\"AR\":\"Arkansas\",\"CA\":\"California\",\"CO\":\"Colorado\",\"CT\":\"Connecticut\",\"DE\":\"Delaware\",\"FL\":\"Florida\",\"GA\":\"Georgia\",\"HI\":\"Hawaii\",\"ID\":\"Idaho\",\"IL\":\"Illinois\",\"IN\":\"Indiana\",\"IA\":\"Iowa\",\"KS\":\"Kansas\",\"KY\":\"Kentucky\",\"LA\":\"Louisiana\",\"ME\":\"Maine\",\"MD\":\"Maryland\",\"MA\":\"Massachusetts\",\"MI\":\"Michigan\",\"MN\":\"Minnesota\",\"MS\":\"Mississippi\",\"MO\":\"Missouri\",\"MT\":\"Montana\",\"NE\":\"Nebraska\",\"NV\":\"Nevada\",\"NH\":\"New Hampshire\",\"NJ\":\"New Jersey\",\"NM\":\"New Mexico\",\"NY\":\"New York\",\"NC\":\"North Carolina\",\"ND\":\"North Dakota\",\"OH\":\"Ohio\",\"OK\":\"Oklahoma\",\"OR\":\"Oregon\",\"PA\":\"Pennsylvania\",\"RI\":\"Rhode Island\",\"SC\":\"South Carolina\",\"SD\":\"South Dakota\",\"TN\":\"Tennessee\",\"TX\":\"Texas\",\"UT\":\"Utah\",\"VT\":\"Vermont\",\"VA\":\"Virginia\",\"WA\":\"Washington\",\"WV\":\"West Virginia\",\"WI\":\"Wisconsin\",\"WY\":\"Wyoming\"}\n",
    "\n",
    "# Replace state code list with state names\n",
    "states.replace(state_list, inplace=True)\n",
    "\n",
    "# Reduce to only US states, due to provinces listed in previous exercise not being covered\n",
    "states = states[states['state'].isin(list(state_list.values()))]\n",
    "print(\"There are \" + str(len(states)) + \" states represented in the dataset.\")\n",
    "states"
   ]
  },
  {
   "cell_type": "markdown",
   "metadata": {},
   "source": [
    "#### What is the text of the funniest review?"
   ]
  },
  {
   "cell_type": "code",
   "execution_count": 10,
   "metadata": {},
   "outputs": [
    {
     "name": "stdout",
     "output_type": "stream",
     "text": [
      "Flew to Arizona a few months ago to try this. Disappointed that this place closed after Gordon Ramsay's return. Their food was one of the best food I had in my whole entire life!! Their caesar salad was great, sauce is very good. Their pizza was THE BEST I HAD IN MY WHOLE ENTIRE LIFE. From the garlic crust to the extremely cheesy topping, the pizza was absolutely outstanding. Wish I could come back but its now closed. \n",
      "\n",
      "CPU times: user 3.05 ms, sys: 7.61 ms, total: 10.7 ms\n",
      "Wall time: 58.3 s\n"
     ]
    }
   ],
   "source": [
    "%%time\n",
    "\n",
    "query = \"\"\"\n",
    "SELECT text,funny \n",
    "FROM review \n",
    "ORDER BY funny DESC\n",
    "LIMIT 1\n",
    "\"\"\"\n",
    "\n",
    "query = spark.sql(query).toPandas().text[0]\n",
    "print(query, \"\\n\")"
   ]
  },
  {
   "cell_type": "markdown",
   "metadata": {},
   "source": [
    "#### Which company was the funniest review from?"
   ]
  },
  {
   "cell_type": "code",
   "execution_count": 11,
   "metadata": {},
   "outputs": [
    {
     "name": "stdout",
     "output_type": "stream",
     "text": [
      "+--------------------+\n",
      "|                name|\n",
      "+--------------------+\n",
      "|Amy's Baking Company|\n",
      "+--------------------+\n",
      "\n",
      "CPU times: user 7.13 ms, sys: 4.47 ms, total: 11.6 ms\n",
      "Wall time: 1min 36s\n"
     ]
    }
   ],
   "source": [
    "%%time\n",
    "\n",
    "query = \"\"\"\n",
    "SELECT business.name\n",
    "FROM review\n",
    "\n",
    "LEFT JOIN business\n",
    "ON review.business_id = business.business_id\n",
    "\n",
    "WHERE review.funny IN (SELECT MAX(review.funny)\n",
    "                       FROM review)\n",
    "\"\"\"\n",
    "\n",
    "query = spark.sql(query).show()"
   ]
  },
  {
   "cell_type": "markdown",
   "metadata": {},
   "source": [
    "#### Which review(s) has/have the most words?"
   ]
  },
  {
   "cell_type": "code",
   "execution_count": 12,
   "metadata": {},
   "outputs": [
    {
     "data": {
      "text/plain": [
       "<function __main__.<lambda>(x)>"
      ]
     },
     "execution_count": 12,
     "metadata": {},
     "output_type": "execute_result"
    }
   ],
   "source": [
    "from pyspark.sql.types import IntegerType\n",
    "from pyspark.sql.functions import udf\n",
    "\n",
    "# assign a UDF to count character length\n",
    "char_len = udf(lambda x: len(x), IntegerType())\n",
    "spark.udf.register('char_len', char_len)"
   ]
  },
  {
   "cell_type": "code",
   "execution_count": 13,
   "metadata": {},
   "outputs": [
    {
     "name": "stdout",
     "output_type": "stream",
     "text": [
      "CPU times: user 13.3 ms, sys: 2.84 ms, total: 16.1 ms\n",
      "Wall time: 1min 17s\n"
     ]
    },
    {
     "data": {
      "text/html": [
       "<div>\n",
       "<style scoped>\n",
       "    .dataframe tbody tr th:only-of-type {\n",
       "        vertical-align: middle;\n",
       "    }\n",
       "\n",
       "    .dataframe tbody tr th {\n",
       "        vertical-align: top;\n",
       "    }\n",
       "\n",
       "    .dataframe thead th {\n",
       "        text-align: right;\n",
       "    }\n",
       "</style>\n",
       "<table border=\"1\" class=\"dataframe\">\n",
       "  <thead>\n",
       "    <tr style=\"text-align: right;\">\n",
       "      <th></th>\n",
       "      <th>text</th>\n",
       "      <th>cool</th>\n",
       "      <th>funny</th>\n",
       "      <th>stars</th>\n",
       "      <th>useful</th>\n",
       "    </tr>\n",
       "  </thead>\n",
       "  <tbody>\n",
       "    <tr>\n",
       "      <th>0</th>\n",
       "      <td>This place is awful. If quick and dirty brunch...</td>\n",
       "      <td>2</td>\n",
       "      <td>8</td>\n",
       "      <td>1.0</td>\n",
       "      <td>13</td>\n",
       "    </tr>\n",
       "    <tr>\n",
       "      <th>1</th>\n",
       "      <td>My husband and I were so overly disappointed i...</td>\n",
       "      <td>0</td>\n",
       "      <td>1</td>\n",
       "      <td>1.0</td>\n",
       "      <td>1</td>\n",
       "    </tr>\n",
       "    <tr>\n",
       "      <th>2</th>\n",
       "      <td>My review will focus on the Arizona State Fair...</td>\n",
       "      <td>2</td>\n",
       "      <td>2</td>\n",
       "      <td>4.0</td>\n",
       "      <td>1</td>\n",
       "    </tr>\n",
       "    <tr>\n",
       "      <th>3</th>\n",
       "      <td>Brides, stop your wedding venue searching and ...</td>\n",
       "      <td>0</td>\n",
       "      <td>0</td>\n",
       "      <td>5.0</td>\n",
       "      <td>2</td>\n",
       "    </tr>\n",
       "    <tr>\n",
       "      <th>4</th>\n",
       "      <td>Paul's Yelp Elite Rating: 21 Stars, er, 10 Sta...</td>\n",
       "      <td>7</td>\n",
       "      <td>3</td>\n",
       "      <td>5.0</td>\n",
       "      <td>9</td>\n",
       "    </tr>\n",
       "  </tbody>\n",
       "</table>\n",
       "</div>"
      ],
      "text/plain": [
       "                                                text  cool  funny  stars  \\\n",
       "0  This place is awful. If quick and dirty brunch...     2      8    1.0   \n",
       "1  My husband and I were so overly disappointed i...     0      1    1.0   \n",
       "2  My review will focus on the Arizona State Fair...     2      2    4.0   \n",
       "3  Brides, stop your wedding venue searching and ...     0      0    5.0   \n",
       "4  Paul's Yelp Elite Rating: 21 Stars, er, 10 Sta...     7      3    5.0   \n",
       "\n",
       "   useful  \n",
       "0      13  \n",
       "1       1  \n",
       "2       1  \n",
       "3       2  \n",
       "4       9  "
      ]
     },
     "execution_count": 13,
     "metadata": {},
     "output_type": "execute_result"
    }
   ],
   "source": [
    "%%time\n",
    "\n",
    "# In the process of trying to solve this, I struggled with leveraging\n",
    "# `WHERE char_len(text) = (SELECT MAX(char_len(text)) FROM review)`\n",
    "# as one would in standard SQL. After multiple attempts, I landed on\n",
    "# this f-string workaround - though not my favorite solution for \n",
    "# efficiency as it iterates through a large dataset twice.\n",
    "\n",
    "query1 = \"(SELECT MAX(char_len(text)) AS max_len FROM review)\"\n",
    "query1 = spark.sql(query1).toPandas()\n",
    "max_len = str(query1['max_len'].iloc[0])\n",
    "max_len\n",
    "\n",
    "# run query leveraging UDF\n",
    "query = f\"\"\"\n",
    "SELECT text\n",
    "       ,cool\n",
    "       ,funny\n",
    "       ,stars\n",
    "       ,useful\n",
    "FROM review\n",
    "WHERE char_len(text) = {max_len}\n",
    "\"\"\"\n",
    "\n",
    "query = spark.sql(query).limit(5).toPandas()\n",
    "query"
   ]
  },
  {
   "cell_type": "markdown",
   "metadata": {},
   "source": [
    "#### What are the names of the top 10 users who provided the most tips?"
   ]
  },
  {
   "cell_type": "code",
   "execution_count": 14,
   "metadata": {},
   "outputs": [
    {
     "name": "stdout",
     "output_type": "stream",
     "text": [
      "CPU times: user 5.56 ms, sys: 895 µs, total: 6.45 ms\n",
      "Wall time: 29.8 s\n"
     ]
    },
    {
     "data": {
      "text/html": [
       "<div>\n",
       "<style scoped>\n",
       "    .dataframe tbody tr th:only-of-type {\n",
       "        vertical-align: middle;\n",
       "    }\n",
       "\n",
       "    .dataframe tbody tr th {\n",
       "        vertical-align: top;\n",
       "    }\n",
       "\n",
       "    .dataframe thead th {\n",
       "        text-align: right;\n",
       "    }\n",
       "</style>\n",
       "<table border=\"1\" class=\"dataframe\">\n",
       "  <thead>\n",
       "    <tr style=\"text-align: right;\">\n",
       "      <th></th>\n",
       "      <th>user_id</th>\n",
       "      <th>name</th>\n",
       "      <th>tip_cnt</th>\n",
       "    </tr>\n",
       "  </thead>\n",
       "  <tbody>\n",
       "    <tr>\n",
       "      <th>0</th>\n",
       "      <td>mkbx55W8B8aPLgDqex7qgg</td>\n",
       "      <td>Momo</td>\n",
       "      <td>2439</td>\n",
       "    </tr>\n",
       "    <tr>\n",
       "      <th>1</th>\n",
       "      <td>CxDOIDnH8gp9KXzpBHJYXw</td>\n",
       "      <td>Jennifer</td>\n",
       "      <td>1598</td>\n",
       "    </tr>\n",
       "    <tr>\n",
       "      <th>2</th>\n",
       "      <td>6ZC-0LfOAGwaFc5XPke74w</td>\n",
       "      <td>Samantha</td>\n",
       "      <td>1509</td>\n",
       "    </tr>\n",
       "    <tr>\n",
       "      <th>3</th>\n",
       "      <td>0tvCcnfJnSs55iB6mqPk3w</td>\n",
       "      <td>Daniel</td>\n",
       "      <td>1376</td>\n",
       "    </tr>\n",
       "    <tr>\n",
       "      <th>4</th>\n",
       "      <td>eZfHm0qI8A_HfvXScwIYsg</td>\n",
       "      <td>Christie</td>\n",
       "      <td>1352</td>\n",
       "    </tr>\n",
       "    <tr>\n",
       "      <th>5</th>\n",
       "      <td>O8eDScRAg6ae0l9Bc24uMA</td>\n",
       "      <td>May</td>\n",
       "      <td>1255</td>\n",
       "    </tr>\n",
       "    <tr>\n",
       "      <th>6</th>\n",
       "      <td>8DGFWco9VeBAxjqsuh1aSw</td>\n",
       "      <td>Kurdy</td>\n",
       "      <td>1178</td>\n",
       "    </tr>\n",
       "    <tr>\n",
       "      <th>7</th>\n",
       "      <td>WJKocp9RE0KatUwh3_DkGg</td>\n",
       "      <td>Anthony</td>\n",
       "      <td>1161</td>\n",
       "    </tr>\n",
       "    <tr>\n",
       "      <th>8</th>\n",
       "      <td>2EuPAGalYnP7eSxPgFCNDg</td>\n",
       "      <td>Shirley</td>\n",
       "      <td>1154</td>\n",
       "    </tr>\n",
       "    <tr>\n",
       "      <th>9</th>\n",
       "      <td>QPJJohtGqkMkaN0Gt3TRIg</td>\n",
       "      <td>Cherrie</td>\n",
       "      <td>1017</td>\n",
       "    </tr>\n",
       "  </tbody>\n",
       "</table>\n",
       "</div>"
      ],
      "text/plain": [
       "                  user_id      name  tip_cnt\n",
       "0  mkbx55W8B8aPLgDqex7qgg      Momo     2439\n",
       "1  CxDOIDnH8gp9KXzpBHJYXw  Jennifer     1598\n",
       "2  6ZC-0LfOAGwaFc5XPke74w  Samantha     1509\n",
       "3  0tvCcnfJnSs55iB6mqPk3w    Daniel     1376\n",
       "4  eZfHm0qI8A_HfvXScwIYsg  Christie     1352\n",
       "5  O8eDScRAg6ae0l9Bc24uMA       May     1255\n",
       "6  8DGFWco9VeBAxjqsuh1aSw     Kurdy     1178\n",
       "7  WJKocp9RE0KatUwh3_DkGg   Anthony     1161\n",
       "8  2EuPAGalYnP7eSxPgFCNDg   Shirley     1154\n",
       "9  QPJJohtGqkMkaN0Gt3TRIg   Cherrie     1017"
      ]
     },
     "execution_count": 14,
     "metadata": {},
     "output_type": "execute_result"
    }
   ],
   "source": [
    "%%time\n",
    "\n",
    "query = \"\"\"\n",
    "SELECT a.user_id , b.name, a.tip_cnt\n",
    "FROM (SELECT user_id, count(user_id) as tip_cnt \n",
    "      FROM tip \n",
    "      GROUP BY user_id\n",
    "      ORDER BY tip_cnt DESC) a\n",
    "LEFT JOIN  user b\n",
    "ON a.user_id = b.user_id  \n",
    "ORDER BY a.tip_cnt DESC\n",
    "LIMIT 10\n",
    "\"\"\"\n",
    "\n",
    "query = spark.sql(query).toPandas()\n",
    "query"
   ]
  },
  {
   "cell_type": "markdown",
   "metadata": {},
   "source": [
    "#### List the names, number of reviews of businesses in Arizona and total number of reviews of the top 5 users (as determined by who has created the most number of reviews of businesses in Arizona). Include a column that shows the percentage of reviews that are of businesses from Arizona."
   ]
  },
  {
   "cell_type": "code",
   "execution_count": 15,
   "metadata": {},
   "outputs": [],
   "source": [
    "from pyspark.sql.types import IntegerType, FloatType"
   ]
  },
  {
   "cell_type": "code",
   "execution_count": 16,
   "metadata": {},
   "outputs": [
    {
     "data": {
      "text/html": [
       "<div>\n",
       "<style scoped>\n",
       "    .dataframe tbody tr th:only-of-type {\n",
       "        vertical-align: middle;\n",
       "    }\n",
       "\n",
       "    .dataframe tbody tr th {\n",
       "        vertical-align: top;\n",
       "    }\n",
       "\n",
       "    .dataframe thead th {\n",
       "        text-align: right;\n",
       "    }\n",
       "</style>\n",
       "<table border=\"1\" class=\"dataframe\">\n",
       "  <thead>\n",
       "    <tr style=\"text-align: right;\">\n",
       "      <th></th>\n",
       "      <th>name</th>\n",
       "      <th>az_cnt</th>\n",
       "      <th>tot_cnt</th>\n",
       "      <th>pct</th>\n",
       "    </tr>\n",
       "  </thead>\n",
       "  <tbody>\n",
       "    <tr>\n",
       "      <th>0</th>\n",
       "      <td>Brad</td>\n",
       "      <td>1637</td>\n",
       "      <td>1642</td>\n",
       "      <td>99.695493</td>\n",
       "    </tr>\n",
       "    <tr>\n",
       "      <th>1</th>\n",
       "      <td>Karen</td>\n",
       "      <td>1559</td>\n",
       "      <td>2340</td>\n",
       "      <td>66.623932</td>\n",
       "    </tr>\n",
       "    <tr>\n",
       "      <th>2</th>\n",
       "      <td>Jennifer</td>\n",
       "      <td>1250</td>\n",
       "      <td>1929</td>\n",
       "      <td>64.800415</td>\n",
       "    </tr>\n",
       "    <tr>\n",
       "      <th>3</th>\n",
       "      <td>Gabi</td>\n",
       "      <td>1151</td>\n",
       "      <td>1932</td>\n",
       "      <td>59.575569</td>\n",
       "    </tr>\n",
       "    <tr>\n",
       "      <th>4</th>\n",
       "      <td>Judy</td>\n",
       "      <td>1059</td>\n",
       "      <td>1193</td>\n",
       "      <td>88.767812</td>\n",
       "    </tr>\n",
       "  </tbody>\n",
       "</table>\n",
       "</div>"
      ],
      "text/plain": [
       "       name  az_cnt  tot_cnt        pct\n",
       "0      Brad    1637     1642  99.695493\n",
       "1     Karen    1559     2340  66.623932\n",
       "2  Jennifer    1250     1929  64.800415\n",
       "3      Gabi    1151     1932  59.575569\n",
       "4      Judy    1059     1193  88.767812"
      ]
     },
     "execution_count": 16,
     "metadata": {},
     "output_type": "execute_result"
    }
   ],
   "source": [
    "%%time\n",
    "\n",
    "query = \"\"\"\n",
    "SELECT user.name AS name\n",
    "       ,az_bus.o_az_count AS az_cnt\n",
    "       ,user.review_count AS tot_cnt\n",
    "       ,(az_bus.o_az_count/user.review_count)*100 as pct\n",
    "FROM (SELECT r.user_id\n",
    "             ,count(r.user_id) o_az_count \n",
    "      FROM business AS bus \n",
    "      RIGHT JOIN review  AS r\n",
    "      ON bus.business_id = r.business_id\n",
    "      WHERE bus.state = 'AZ'\n",
    "      GROUP BY r.user_id\n",
    "      ORDER BY o_az_count DESC\n",
    "      ) az_bus\n",
    "RIGHT JOIN user\n",
    "ON az_bus.user_id = user.user_id\n",
    "ORDER BY az_bus.o_az_count DESC\n",
    "LIMIT 5\n",
    "\"\"\"\n",
    "\n",
    "query = spark.sql(query).toPandas()\n",
    "query"
   ]
  },
  {
   "cell_type": "markdown",
   "metadata": {},
   "source": [
    "______________________\n",
    "<div style=\"text-align: right\"><sub>Exercise adapted and modified from UMSI homework assignment for SIADS 516.</sub></div>"
   ]
  }
 ],
 "metadata": {
  "kernelspec": {
   "display_name": "Python 3",
   "language": "python",
   "name": "python3"
  },
  "language_info": {
   "codemirror_mode": {
    "name": "ipython",
    "version": 3
   },
   "file_extension": ".py",
   "mimetype": "text/x-python",
   "name": "python",
   "nbconvert_exporter": "python",
   "pygments_lexer": "ipython3",
   "version": "3.7.3"
  }
 },
 "nbformat": 4,
 "nbformat_minor": 2
}
