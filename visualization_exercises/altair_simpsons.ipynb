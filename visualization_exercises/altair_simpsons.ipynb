{
 "cells": [
  {
   "cell_type": "markdown",
   "metadata": {},
   "source": [
    "## Altair Exercises\n",
    "\n",
    "This notebook will explore multiple different visualizations in Altair.\n",
    "\n",
    "______\n",
    "\n",
    "### Part 7\n",
    "\n",
    "The following exercise is based on the show [The Simpsons](https://en.wikipedia.org/wiki/The_Simpsons), and will be analyzing key quotes from the history of the Simpsons as a network problem. \n",
    "\n",
    "We will be leveraging an extracted dataset, [quote data from the wikiquotes project](https://en.wikiquote.org/wiki/The_Simpsons). For each season, we look at each episode. For each episode, we identify the quotes recorded in wikiquotes.\n",
    "\n",
    "While some quotes are \"one-liners\" by a single character:\n",
    "* **Homer**: Aww, it makes no sense; I haven't changed since high school and all of a sudden I'm uncool.\n",
    "\n",
    "We are interested in interactions between characters. For example:\n",
    "* **Homer**: Doughnut?\n",
    "* **Lisa**: No, thanks. Do you have any fruit?\n",
    "* **Homer**: This has purple stuff inside. Purple is a fruit.\n",
    "\n",
    "These multi-character quotes will become the \"edges\" in our network, where appropriate. We're going to start with a simpler analysis of the hierarchical data in this database."
   ]
  },
  {
   "cell_type": "code",
   "execution_count": 1,
   "metadata": {},
   "outputs": [],
   "source": [
    "# !pip install nx_altair\n",
    "# !pip install squarify"
   ]
  },
  {
   "cell_type": "code",
   "execution_count": 2,
   "metadata": {},
   "outputs": [],
   "source": [
    "import pandas as pd\n",
    "import json\n",
    "import networkx as nx\n",
    "import nx_altair as nxa\n",
    "import json\n",
    "import squarify\n",
    "import altair as alt\n",
    "import numpy as np\n",
    "import matplotlib\n",
    "from sklearn.cluster import AgglomerativeClustering\n",
    "from networkx.algorithms.community import *\n",
    "from scipy.cluster.hierarchy import dendrogram,leaves_list\n",
    "from scipy.cluster.hierarchy import ClusterWarning\n",
    "from warnings import simplefilter\n",
    "simplefilter(\"ignore\", ClusterWarning)"
   ]
  },
  {
   "cell_type": "code",
   "execution_count": 3,
   "metadata": {},
   "outputs": [
    {
     "data": {
      "text/plain": [
       "DataTransformerRegistry.enable('json')"
      ]
     },
     "execution_count": 3,
     "metadata": {},
     "output_type": "execute_result"
    }
   ],
   "source": [
    "# enable correct rendering (unnecessary in later versions of Altair)\n",
    "alt.renderers.enable('default')\n",
    "\n",
    "# uses intermediate json files to speed things up\n",
    "alt.data_transformers.enable('json')"
   ]
  },
  {
   "cell_type": "markdown",
   "metadata": {},
   "source": [
    "#### Hierarchical representation of Quote Database\n",
    "\n",
    "We have data for multiple seasons,a nd for each season, we have multiple episodes. For each episode, we have multiple characters who have particiapated in funny/memorable scenes. Our goal is to have a visualization that allows us to compare which seasons/episodes/characters had the most quoted conversations. The questions we wish to be able to answer with the visualization are: \n",
    "* Does a certain character have many conversations in one episode, and fewer in others?\n",
    "* Were there any outlier episodes with lots of conversations?\n",
    "* Was there a season with many conversations?\n",
    "\n",
    "There are 5076 conversations in our dataset."
   ]
  },
  {
   "cell_type": "code",
   "execution_count": 4,
   "metadata": {},
   "outputs": [],
   "source": [
    "with open('../assets/simpsonshier.jsonl') as json_file:\n",
    "    allseasons = json.load(json_file)"
   ]
  },
  {
   "cell_type": "code",
   "execution_count": 5,
   "metadata": {},
   "outputs": [
    {
     "name": "stdout",
     "output_type": "stream",
     "text": [
      "season  s02 had 124 quotes\n",
      "{'id': 's02e14', 'type': 'episode', 'label': 'Bart Gets an F', 'value': 7, 'children': [{'id': 'Bart', 'type': 'character', 'value': 2}, {'id': 'Mrs. Krabappel', 'type': 'character', 'value': 1}, {'id': 'Martin', 'type': 'character', 'value': 1}, {'id': 'Otto', 'type': 'character', 'value': 1}, {'id': 'Sherri', 'type': 'character', 'value': 1}, {'id': 'Terri', 'type': 'character', 'value': 1}]}\n"
     ]
    }
   ],
   "source": [
    "# this variable is a massive JSON object with a hierarchy of seasons -> episodes -> characters. Each \"Node\"\n",
    "# hierarchy is a dictionary which has an id, a type (one of 'season','episode', or 'character'), an optional\n",
    "# label (episodes had names as well as numerical ids), the value (the number of quotes), and children (a\n",
    "# list of nodes that sit underneath)\n",
    "\n",
    "allseasons\n",
    "\n",
    "# for example, we can find season 2's quote quote:\n",
    "season2 = allseasons[1]\n",
    "print(\"season \",season2['id'], \"had\", season2['value'], \"quotes\")\n",
    "\n",
    "# for the first episode of season 1 we see the following\n",
    "season2e1 = season2['children'][0]\n",
    "print(season2e1)\n",
    "\n",
    "# you'll see that this episode was called \"Bart Gets and F\" and it had 7 quotes. \n",
    "# Bart was responsible for 2 of these"
   ]
  },
  {
   "cell_type": "markdown",
   "metadata": {},
   "source": [
    "There are two main ways to display hierarchies. Node link diagrams, and space-filling versions such as TreeMaps. For this exercise we will use TreeMaps.\n",
    "\n",
    "Unfortunately, Altair doesn't have a treemap layout built in. We'll be using the [squarify](https://github.com/laserson/squarify) library to generate the coordinates. Squarify works by generating one level of the hierarchy at a time. So we need a function that lays out the seasons, and then for each episode re-runs squarify but restricts it to the space allocated to the season. After that we re-run squarify to plot the position of each character in that episode."
   ]
  },
  {
   "cell_type": "code",
   "execution_count": 6,
   "metadata": {},
   "outputs": [],
   "source": [
    "def rectangleIter(data,width,height,xof=0,yof=0,frame=None,level=-1,parentid=\"\"):\n",
    "    # data: hierarchical structured data\n",
    "    # width: width we can work in\n",
    "    # height: height we can work in\n",
    "    # xof: x offset\n",
    "    # yof: y offset\n",
    "    # frame: the dataframe to add the data to, if None, we create one\n",
    "    # the level of the treemap (will default to 0 on first run)\n",
    "    # parentid: a string representing the parent of this node\n",
    "    # returns dataframe of all the rectangles\n",
    "    \n",
    "    if (frame is None):\n",
    "        frame = pd.DataFrame()\n",
    "    level = level + 1\n",
    "    values = []\n",
    "    children = []\n",
    "    for parent in data:\n",
    "        values.append(parent['value'])\n",
    "        if ('children' in parent):\n",
    "            children.append(parent['children'])\n",
    "        else:\n",
    "            children.append([])\n",
    "            \n",
    "    # normalize\n",
    "    values = squarify.normalize_sizes(values, width, height)\n",
    "   \n",
    "    # generate the \n",
    "    padded_rects = squarify.padded_squarify(values, xof, yof, width, height)\n",
    "    \n",
    "    i = 0\n",
    "    for rect in padded_rects:\n",
    "        # adjust the padding and copy the useful pieces of data over\n",
    "        parent = data[i]\n",
    "        rect['width'] = rect['dx']\n",
    "        rect['height'] = rect['dy']\n",
    "        del rect['dx']\n",
    "        del rect['dy']\n",
    "        rect['x2'] = rect['x'] + rect['width'] - 2\n",
    "        rect['y2'] = rect['y'] + rect['height'] - 2\n",
    "        rect['x'] = rect['x'] + 2\n",
    "        rect['y'] = rect['y'] + 2\n",
    "        rect['width'] = rect['x2'] - rect['x']\n",
    "        rect['height'] = rect['y2'] - rect['y']\n",
    "        rect['id'] = parent['id']\n",
    "        rect['type'] = parent['type']\n",
    "        rect['value'] = parent['value']\n",
    "        rect['level'] = level\n",
    "        if 'label' in parent:\n",
    "            rect['label'] = parent['label']\n",
    "        else:\n",
    "            rect['label'] = parent['id']\n",
    "        rect['parentid'] = parentid\n",
    "        frame = frame.append(rect,ignore_index=True)\n",
    "        \n",
    "        # iterate\n",
    "        frame = rectangleIter(children[i],rect['width'],rect['height'],rect['x'],rect['y'],\n",
    "                              frame=frame,level=level,parentid=parentid+\" → \"+rect['label'])\n",
    "        i = i + 1\n",
    "    return(frame)"
   ]
  },
  {
   "cell_type": "markdown",
   "metadata": {},
   "source": [
    "To keep the chart manageable and readable, we will work with a sample of the first 6 seasons."
   ]
  },
  {
   "cell_type": "code",
   "execution_count": 7,
   "metadata": {},
   "outputs": [],
   "source": [
    "shortseason = allseasons[0:6]                   # let's grab the first 6 seasons\n",
    "rect_table = rectangleIter(shortseason,800,800) # and run them through the treemap algorithm"
   ]
  },
  {
   "cell_type": "code",
   "execution_count": 8,
   "metadata": {},
   "outputs": [
    {
     "data": {
      "text/html": [
       "<div>\n",
       "<style scoped>\n",
       "    .dataframe tbody tr th:only-of-type {\n",
       "        vertical-align: middle;\n",
       "    }\n",
       "\n",
       "    .dataframe tbody tr th {\n",
       "        vertical-align: top;\n",
       "    }\n",
       "\n",
       "    .dataframe thead th {\n",
       "        text-align: right;\n",
       "    }\n",
       "</style>\n",
       "<table border=\"1\" class=\"dataframe\">\n",
       "  <thead>\n",
       "    <tr style=\"text-align: right;\">\n",
       "      <th></th>\n",
       "      <th>height</th>\n",
       "      <th>id</th>\n",
       "      <th>label</th>\n",
       "      <th>level</th>\n",
       "      <th>parentid</th>\n",
       "      <th>type</th>\n",
       "      <th>value</th>\n",
       "      <th>width</th>\n",
       "      <th>x</th>\n",
       "      <th>x2</th>\n",
       "      <th>y</th>\n",
       "      <th>y2</th>\n",
       "    </tr>\n",
       "  </thead>\n",
       "  <tbody>\n",
       "    <tr>\n",
       "      <th>140</th>\n",
       "      <td>12.873734</td>\n",
       "      <td>Apu</td>\n",
       "      <td>Apu</td>\n",
       "      <td>2.0</td>\n",
       "      <td>→ s02 → Homer vs. Lisa and the 8th Commandment</td>\n",
       "      <td>character</td>\n",
       "      <td>1.0</td>\n",
       "      <td>15.049490</td>\n",
       "      <td>114.323980</td>\n",
       "      <td>129.373469</td>\n",
       "      <td>268.047438</td>\n",
       "      <td>280.921172</td>\n",
       "    </tr>\n",
       "    <tr>\n",
       "      <th>355</th>\n",
       "      <td>14.949838</td>\n",
       "      <td>Milhouse</td>\n",
       "      <td>Milhouse</td>\n",
       "      <td>2.0</td>\n",
       "      <td>→ s04 → Kamp Krusty</td>\n",
       "      <td>character</td>\n",
       "      <td>1.0</td>\n",
       "      <td>15.148526</td>\n",
       "      <td>293.967498</td>\n",
       "      <td>309.116024</td>\n",
       "      <td>50.899675</td>\n",
       "      <td>65.849513</td>\n",
       "    </tr>\n",
       "    <tr>\n",
       "      <th>851</th>\n",
       "      <td>19.414401</td>\n",
       "      <td>Sam</td>\n",
       "      <td>Sam</td>\n",
       "      <td>2.0</td>\n",
       "      <td>→ s06 → Fear of Flying (The Simpsons)</td>\n",
       "      <td>character</td>\n",
       "      <td>1.0</td>\n",
       "      <td>12.663221</td>\n",
       "      <td>434.384894</td>\n",
       "      <td>447.048114</td>\n",
       "      <td>729.228265</td>\n",
       "      <td>748.642666</td>\n",
       "    </tr>\n",
       "    <tr>\n",
       "      <th>194</th>\n",
       "      <td>21.882184</td>\n",
       "      <td>Homer</td>\n",
       "      <td>Homer</td>\n",
       "      <td>2.0</td>\n",
       "      <td>→ s02 → Blood Feud (The Simpsons)</td>\n",
       "      <td>character</td>\n",
       "      <td>2.0</td>\n",
       "      <td>24.045185</td>\n",
       "      <td>195.526243</td>\n",
       "      <td>219.571429</td>\n",
       "      <td>372.059274</td>\n",
       "      <td>393.941458</td>\n",
       "    </tr>\n",
       "    <tr>\n",
       "      <th>117</th>\n",
       "      <td>18.337761</td>\n",
       "      <td>Audience</td>\n",
       "      <td>Audience</td>\n",
       "      <td>2.0</td>\n",
       "      <td>→ s02 → Itchy &amp;amp; Scratchy &amp;amp; Marge</td>\n",
       "      <td>character</td>\n",
       "      <td>1.0</td>\n",
       "      <td>11.475000</td>\n",
       "      <td>9.000000</td>\n",
       "      <td>20.475000</td>\n",
       "      <td>292.385199</td>\n",
       "      <td>310.722960</td>\n",
       "    </tr>\n",
       "  </tbody>\n",
       "</table>\n",
       "</div>"
      ],
      "text/plain": [
       "        height        id     label  level  \\\n",
       "140  12.873734       Apu       Apu    2.0   \n",
       "355  14.949838  Milhouse  Milhouse    2.0   \n",
       "851  19.414401       Sam       Sam    2.0   \n",
       "194  21.882184     Homer     Homer    2.0   \n",
       "117  18.337761  Audience  Audience    2.0   \n",
       "\n",
       "                                            parentid       type  value  \\\n",
       "140   → s02 → Homer vs. Lisa and the 8th Commandment  character    1.0   \n",
       "355                              → s04 → Kamp Krusty  character    1.0   \n",
       "851            → s06 → Fear of Flying (The Simpsons)  character    1.0   \n",
       "194                → s02 → Blood Feud (The Simpsons)  character    2.0   \n",
       "117         → s02 → Itchy &amp; Scratchy &amp; Marge  character    1.0   \n",
       "\n",
       "         width           x          x2           y          y2  \n",
       "140  15.049490  114.323980  129.373469  268.047438  280.921172  \n",
       "355  15.148526  293.967498  309.116024   50.899675   65.849513  \n",
       "851  12.663221  434.384894  447.048114  729.228265  748.642666  \n",
       "194  24.045185  195.526243  219.571429  372.059274  393.941458  \n",
       "117  11.475000    9.000000   20.475000  292.385199  310.722960  "
      ]
     },
     "execution_count": 8,
     "metadata": {},
     "output_type": "execute_result"
    }
   ],
   "source": [
    "# let's look at what's inside\n",
    "rect_table.sample(5)"
   ]
  },
  {
   "cell_type": "markdown",
   "metadata": {},
   "source": [
    "Now let's make a TreeMap."
   ]
  },
  {
   "cell_type": "code",
   "execution_count": 9,
   "metadata": {},
   "outputs": [],
   "source": [
    "def staticTreemap(inputFrame):\n",
    "    # input inputFrame the rectangles frame as described above\n",
    "    # return a static Altair treemap visualization\n",
    "    \n",
    "    lvl_0 = inputFrame[inputFrame['level'] == 0.0]\n",
    "    level_0 = alt.Chart(lvl_0).mark_rect(color=\"#000000\").encode(x=alt.X('x:Q',axis=None), x2='x2:Q', y=alt.Y('y:Q',axis=None), y2='y2:Q')\n",
    "    \n",
    "    lvl_1 = inputFrame[inputFrame['level'] == 1.0]\n",
    "    level_1 = alt.Chart(lvl_1).mark_rect(color=\"808080\").encode(x=alt.X('x:Q',axis=None), x2='x2:Q', y=alt.Y('y:Q',axis=None), y2='y2:Q')\n",
    "    \n",
    "    lvl_2 = inputFrame[inputFrame['level'] == 2.0]\n",
    "    level_2 = alt.Chart(lvl_2).mark_rect().encode(x=alt.X('x:Q',axis=None), x2='x2:Q', y=alt.Y('y:Q',axis=None), y2='y2:Q', color=alt.Color(\"id:N\", legend=None))\n",
    "    \n",
    "    final = (level_0 + level_1 + level_2).properties(\n",
    "        width=800,\n",
    "        height=800\n",
    "    )\n",
    "    \n",
    "    return(final)"
   ]
  },
  {
   "cell_type": "code",
   "execution_count": 10,
   "metadata": {},
   "outputs": [
    {
     "data": {
      "text/html": [
       "\n",
       "<div id=\"altair-viz-3b1926b0cf724fb88895590339456e11\"></div>\n",
       "<script type=\"text/javascript\">\n",
       "  (function(spec, embedOpt){\n",
       "    let outputDiv = document.currentScript.previousElementSibling;\n",
       "    if (outputDiv.id !== \"altair-viz-3b1926b0cf724fb88895590339456e11\") {\n",
       "      outputDiv = document.getElementById(\"altair-viz-3b1926b0cf724fb88895590339456e11\");\n",
       "    }\n",
       "    const paths = {\n",
       "      \"vega\": \"https://cdn.jsdelivr.net/npm//vega@5?noext\",\n",
       "      \"vega-lib\": \"https://cdn.jsdelivr.net/npm//vega-lib?noext\",\n",
       "      \"vega-lite\": \"https://cdn.jsdelivr.net/npm//vega-lite@4.8.1?noext\",\n",
       "      \"vega-embed\": \"https://cdn.jsdelivr.net/npm//vega-embed@6?noext\",\n",
       "    };\n",
       "\n",
       "    function loadScript(lib) {\n",
       "      return new Promise(function(resolve, reject) {\n",
       "        var s = document.createElement('script');\n",
       "        s.src = paths[lib];\n",
       "        s.async = true;\n",
       "        s.onload = () => resolve(paths[lib]);\n",
       "        s.onerror = () => reject(`Error loading script: ${paths[lib]}`);\n",
       "        document.getElementsByTagName(\"head\")[0].appendChild(s);\n",
       "      });\n",
       "    }\n",
       "\n",
       "    function showError(err) {\n",
       "      outputDiv.innerHTML = `<div class=\"error\" style=\"color:red;\">${err}</div>`;\n",
       "      throw err;\n",
       "    }\n",
       "\n",
       "    function displayChart(vegaEmbed) {\n",
       "      vegaEmbed(outputDiv, spec, embedOpt)\n",
       "        .catch(err => showError(`Javascript Error: ${err.message}<br>This usually means there's a typo in your chart specification. See the javascript console for the full traceback.`));\n",
       "    }\n",
       "\n",
       "    if(typeof define === \"function\" && define.amd) {\n",
       "      requirejs.config({paths});\n",
       "      require([\"vega-embed\"], displayChart, err => showError(`Error loading script: ${err.message}`));\n",
       "    } else if (typeof vegaEmbed === \"function\") {\n",
       "      displayChart(vegaEmbed);\n",
       "    } else {\n",
       "      loadScript(\"vega\")\n",
       "        .then(() => loadScript(\"vega-lite\"))\n",
       "        .then(() => loadScript(\"vega-embed\"))\n",
       "        .catch(showError)\n",
       "        .then(() => displayChart(vegaEmbed));\n",
       "    }\n",
       "  })({\"config\": {\"view\": {\"continuousWidth\": 400, \"continuousHeight\": 300}}, \"layer\": [{\"data\": {\"url\": \"altair-data-e5bfee7e0bf04763c124255d25ac6e05.json\", \"format\": {\"type\": \"json\"}}, \"mark\": {\"type\": \"rect\", \"color\": \"#000000\"}, \"encoding\": {\"x\": {\"type\": \"quantitative\", \"axis\": null, \"field\": \"x\"}, \"x2\": {\"field\": \"x2\"}, \"y\": {\"type\": \"quantitative\", \"axis\": null, \"field\": \"y\"}, \"y2\": {\"field\": \"y2\"}}}, {\"data\": {\"url\": \"altair-data-8ecbe54b8969b905ab6510bc803d1471.json\", \"format\": {\"type\": \"json\"}}, \"mark\": {\"type\": \"rect\", \"color\": \"808080\"}, \"encoding\": {\"x\": {\"type\": \"quantitative\", \"axis\": null, \"field\": \"x\"}, \"x2\": {\"field\": \"x2\"}, \"y\": {\"type\": \"quantitative\", \"axis\": null, \"field\": \"y\"}, \"y2\": {\"field\": \"y2\"}}}, {\"data\": {\"url\": \"altair-data-e3425836a8e0532587742dff5da6e6e6.json\", \"format\": {\"type\": \"json\"}}, \"mark\": \"rect\", \"encoding\": {\"color\": {\"type\": \"nominal\", \"field\": \"id\", \"legend\": null}, \"x\": {\"type\": \"quantitative\", \"axis\": null, \"field\": \"x\"}, \"x2\": {\"field\": \"x2\"}, \"y\": {\"type\": \"quantitative\", \"axis\": null, \"field\": \"y\"}, \"y2\": {\"field\": \"y2\"}}}], \"height\": 800, \"width\": 800, \"$schema\": \"https://vega.github.io/schema/vega-lite/v4.8.1.json\"}, {\"mode\": \"vega-lite\"});\n",
       "</script>"
      ],
      "text/plain": [
       "alt.LayerChart(...)"
      ]
     },
     "execution_count": 10,
     "metadata": {},
     "output_type": "execute_result"
    }
   ],
   "source": [
    "staticTreemap(rect_table)"
   ]
  },
  {
   "cell_type": "markdown",
   "metadata": {},
   "source": [
    "That doesn't do much for us aside from show some relative values. Let's make this interactive so that we can better understand what we are looking at."
   ]
  },
  {
   "cell_type": "code",
   "execution_count": 11,
   "metadata": {},
   "outputs": [],
   "source": [
    "def interactiveTreemap(inputFrame):\n",
    "    # input inputFrame the rectangles frame as described above\n",
    "    # return a static Altair treemap visualization\n",
    "    \n",
    "    label_select = alt.selection_single(empty='all', fields=['id'])\n",
    "    colorCondition2 = alt.condition(label_select,\"id:N\",alt.value('lightgray'),legend=None)\n",
    "    \n",
    "    lvl_0 = inputFrame[inputFrame['level'] == 0.0]\n",
    "    level_0 = alt.Chart(lvl_0).mark_rect(color=\"#000000\").encode(x=alt.X('x:Q',axis=None), \n",
    "                                                                 x2='x2:Q', \n",
    "                                                                 y=alt.Y('y:Q',axis=None), \n",
    "                                                                 y2='y2:Q')\n",
    "    \n",
    "    lvl_1 = inputFrame[inputFrame['level'] == 1.0]\n",
    "    level_1 = alt.Chart(lvl_1).mark_rect(color=\"808080\").encode(x=alt.X('x:Q',axis=None), \n",
    "                                                                x2='x2:Q', \n",
    "                                                                y=alt.Y('y:Q',axis=None), \n",
    "                                                                y2='y2:Q')\n",
    "    \n",
    "    lvl_2 = inputFrame[inputFrame['level'] == 2.0]\n",
    "    level_2 = alt.Chart(lvl_2).mark_rect().encode(x=alt.X('x:Q',axis=None), \n",
    "                                                  x2='x2:Q', \n",
    "                                                  y=alt.Y('y:Q',axis=None), \n",
    "                                                  y2='y2:Q', \n",
    "                                                  color=alt.Color(\"id:N\", legend=None), \n",
    "                                                  tooltip=['parentid:N','id:N','value:Q'])\n",
    "    \n",
    "    base = (level_0 + level_1).properties(\n",
    "        width=800,\n",
    "        height=800\n",
    "    )\n",
    "    \n",
    "    interactive_lvl2 = level_2.add_selection(\n",
    "        label_select\n",
    "    ).encode(\n",
    "        color=colorCondition2\n",
    "    )\n",
    "    \n",
    "    i_treemap = (base + interactive_lvl2)\n",
    "    \n",
    "    return i_treemap"
   ]
  },
  {
   "cell_type": "code",
   "execution_count": 12,
   "metadata": {},
   "outputs": [
    {
     "data": {
      "text/html": [
       "\n",
       "<div id=\"altair-viz-c5ff450198194136bf2b3ccf05aaab83\"></div>\n",
       "<script type=\"text/javascript\">\n",
       "  (function(spec, embedOpt){\n",
       "    let outputDiv = document.currentScript.previousElementSibling;\n",
       "    if (outputDiv.id !== \"altair-viz-c5ff450198194136bf2b3ccf05aaab83\") {\n",
       "      outputDiv = document.getElementById(\"altair-viz-c5ff450198194136bf2b3ccf05aaab83\");\n",
       "    }\n",
       "    const paths = {\n",
       "      \"vega\": \"https://cdn.jsdelivr.net/npm//vega@5?noext\",\n",
       "      \"vega-lib\": \"https://cdn.jsdelivr.net/npm//vega-lib?noext\",\n",
       "      \"vega-lite\": \"https://cdn.jsdelivr.net/npm//vega-lite@4.8.1?noext\",\n",
       "      \"vega-embed\": \"https://cdn.jsdelivr.net/npm//vega-embed@6?noext\",\n",
       "    };\n",
       "\n",
       "    function loadScript(lib) {\n",
       "      return new Promise(function(resolve, reject) {\n",
       "        var s = document.createElement('script');\n",
       "        s.src = paths[lib];\n",
       "        s.async = true;\n",
       "        s.onload = () => resolve(paths[lib]);\n",
       "        s.onerror = () => reject(`Error loading script: ${paths[lib]}`);\n",
       "        document.getElementsByTagName(\"head\")[0].appendChild(s);\n",
       "      });\n",
       "    }\n",
       "\n",
       "    function showError(err) {\n",
       "      outputDiv.innerHTML = `<div class=\"error\" style=\"color:red;\">${err}</div>`;\n",
       "      throw err;\n",
       "    }\n",
       "\n",
       "    function displayChart(vegaEmbed) {\n",
       "      vegaEmbed(outputDiv, spec, embedOpt)\n",
       "        .catch(err => showError(`Javascript Error: ${err.message}<br>This usually means there's a typo in your chart specification. See the javascript console for the full traceback.`));\n",
       "    }\n",
       "\n",
       "    if(typeof define === \"function\" && define.amd) {\n",
       "      requirejs.config({paths});\n",
       "      require([\"vega-embed\"], displayChart, err => showError(`Error loading script: ${err.message}`));\n",
       "    } else if (typeof vegaEmbed === \"function\") {\n",
       "      displayChart(vegaEmbed);\n",
       "    } else {\n",
       "      loadScript(\"vega\")\n",
       "        .then(() => loadScript(\"vega-lite\"))\n",
       "        .then(() => loadScript(\"vega-embed\"))\n",
       "        .catch(showError)\n",
       "        .then(() => displayChart(vegaEmbed));\n",
       "    }\n",
       "  })({\"config\": {\"view\": {\"continuousWidth\": 400, \"continuousHeight\": 300}}, \"layer\": [{\"data\": {\"url\": \"altair-data-e5bfee7e0bf04763c124255d25ac6e05.json\", \"format\": {\"type\": \"json\"}}, \"mark\": {\"type\": \"rect\", \"color\": \"#000000\"}, \"encoding\": {\"x\": {\"type\": \"quantitative\", \"axis\": null, \"field\": \"x\"}, \"x2\": {\"field\": \"x2\"}, \"y\": {\"type\": \"quantitative\", \"axis\": null, \"field\": \"y\"}, \"y2\": {\"field\": \"y2\"}}}, {\"data\": {\"url\": \"altair-data-8ecbe54b8969b905ab6510bc803d1471.json\", \"format\": {\"type\": \"json\"}}, \"mark\": {\"type\": \"rect\", \"color\": \"808080\"}, \"encoding\": {\"x\": {\"type\": \"quantitative\", \"axis\": null, \"field\": \"x\"}, \"x2\": {\"field\": \"x2\"}, \"y\": {\"type\": \"quantitative\", \"axis\": null, \"field\": \"y\"}, \"y2\": {\"field\": \"y2\"}}}, {\"data\": {\"url\": \"altair-data-e3425836a8e0532587742dff5da6e6e6.json\", \"format\": {\"type\": \"json\"}}, \"mark\": \"rect\", \"encoding\": {\"color\": {\"condition\": {\"type\": \"nominal\", \"field\": \"id\", \"legend\": null, \"selection\": \"selector001\"}, \"value\": \"lightgray\"}, \"tooltip\": [{\"type\": \"nominal\", \"field\": \"parentid\"}, {\"type\": \"nominal\", \"field\": \"id\"}, {\"type\": \"quantitative\", \"field\": \"value\"}], \"x\": {\"type\": \"quantitative\", \"axis\": null, \"field\": \"x\"}, \"x2\": {\"field\": \"x2\"}, \"y\": {\"type\": \"quantitative\", \"axis\": null, \"field\": \"y\"}, \"y2\": {\"field\": \"y2\"}}, \"selection\": {\"selector001\": {\"type\": \"single\", \"empty\": \"all\", \"fields\": [\"id\"]}}}], \"height\": 800, \"width\": 800, \"$schema\": \"https://vega.github.io/schema/vega-lite/v4.8.1.json\"}, {\"mode\": \"vega-lite\"});\n",
       "</script>"
      ],
      "text/plain": [
       "alt.LayerChart(...)"
      ]
     },
     "execution_count": 12,
     "metadata": {},
     "output_type": "execute_result"
    }
   ],
   "source": [
    "interactiveTreemap(rect_table)"
   ]
  },
  {
   "cell_type": "markdown",
   "metadata": {},
   "source": [
    "Now, you should be able to scroll over to see id's, and if you click to select, you can compare character-by-character, episode-over-episode.\n",
    "_______\n",
    "\n",
    "#### Network Analysis for Conversational Quotes\n",
    "\n",
    "For the next graphic, we will look more closely at conversation networks. Each quotable conversation can be modeled as a small network. Nodes correspond to characters, and edges are the number of conversations two characters co-occurred in. For example, if Bart, Homer, and Lisa are in the same quote, we would construct 3 undirected edges: Bart to Homer,  Bart to Lisa, and Lisa to Homer. By aggregating all these conversations together (over episodes or seasons), we can compute the \"weight\" of an edge: the total number of quoted conversations those characters interacted over.  From this kind of network, we can identify who the central characters are. Who is interacting with the most others in a quotable way? Are there small communities?\n",
    "\n",
    "For this problem, we are going to use two libraries to help us out: [networkx](https://networkx.org/)--a library for manipulation and analysis of graph data structures (it will also generate layouts), and [nx-altair](https://github.com/Zsailer/nx_altair) a library that can generate Altair plots from networkx data."
   ]
  },
  {
   "cell_type": "code",
   "execution_count": 13,
   "metadata": {},
   "outputs": [],
   "source": [
    "# helper function to load the data\n",
    "def loadData(filepath):\n",
    "    articles = []\n",
    "    with open(filepath) as fp:\n",
    "        for docid, line in enumerate(fp):\n",
    "            #print(line)\n",
    "            #print(docid)\n",
    "            doc = json.loads(line)\n",
    "            char1 = doc['c1']\n",
    "            char2 = doc['c2']\n",
    "            articles.append(doc)\n",
    "    return pd.DataFrame(articles)"
   ]
  },
  {
   "cell_type": "code",
   "execution_count": 14,
   "metadata": {},
   "outputs": [],
   "source": [
    "# we're going to load a data frame representation of the network to start\n",
    "simpsons = loadData('../assets/simpsons.jsonl')"
   ]
  },
  {
   "cell_type": "code",
   "execution_count": 15,
   "metadata": {},
   "outputs": [
    {
     "data": {
      "text/html": [
       "<div>\n",
       "<style scoped>\n",
       "    .dataframe tbody tr th:only-of-type {\n",
       "        vertical-align: middle;\n",
       "    }\n",
       "\n",
       "    .dataframe tbody tr th {\n",
       "        vertical-align: top;\n",
       "    }\n",
       "\n",
       "    .dataframe thead th {\n",
       "        text-align: right;\n",
       "    }\n",
       "</style>\n",
       "<table border=\"1\" class=\"dataframe\">\n",
       "  <thead>\n",
       "    <tr style=\"text-align: right;\">\n",
       "      <th></th>\n",
       "      <th>season</th>\n",
       "      <th>episode</th>\n",
       "      <th>lineid</th>\n",
       "      <th>c1</th>\n",
       "      <th>c2</th>\n",
       "    </tr>\n",
       "  </thead>\n",
       "  <tbody>\n",
       "    <tr>\n",
       "      <th>120</th>\n",
       "      <td>2</td>\n",
       "      <td>Itchy &amp;amp; Scratchy &amp;amp; Marge</td>\n",
       "      <td>43</td>\n",
       "      <td>Lisa</td>\n",
       "      <td>Marge</td>\n",
       "    </tr>\n",
       "    <tr>\n",
       "      <th>3578</th>\n",
       "      <td>13</td>\n",
       "      <td>I Am Furious Yellow</td>\n",
       "      <td>1455</td>\n",
       "      <td>Angry Dad</td>\n",
       "      <td>Cartoon Mr. Burns</td>\n",
       "    </tr>\n",
       "    <tr>\n",
       "      <th>3544</th>\n",
       "      <td>13</td>\n",
       "      <td>Tales from the Public Domain</td>\n",
       "      <td>1438</td>\n",
       "      <td>Helen of Troy (Agnes) a la Phyllis Diller</td>\n",
       "      <td>Suitor 1 (Sideshow Mel)</td>\n",
       "    </tr>\n",
       "    <tr>\n",
       "      <th>4074</th>\n",
       "      <td>16</td>\n",
       "      <td>She Used to Be My Girl</td>\n",
       "      <td>1712</td>\n",
       "      <td>Bart</td>\n",
       "      <td>Marge</td>\n",
       "    </tr>\n",
       "    <tr>\n",
       "      <th>2892</th>\n",
       "      <td>10</td>\n",
       "      <td>Viva Ned Flanders</td>\n",
       "      <td>1102</td>\n",
       "      <td>Graeme Edge</td>\n",
       "      <td>Homer</td>\n",
       "    </tr>\n",
       "  </tbody>\n",
       "</table>\n",
       "</div>"
      ],
      "text/plain": [
       "      season                           episode  lineid  \\\n",
       "120        2  Itchy &amp; Scratchy &amp; Marge      43   \n",
       "3578      13               I Am Furious Yellow    1455   \n",
       "3544      13      Tales from the Public Domain    1438   \n",
       "4074      16            She Used to Be My Girl    1712   \n",
       "2892      10                 Viva Ned Flanders    1102   \n",
       "\n",
       "                                             c1                       c2  \n",
       "120                                        Lisa                    Marge  \n",
       "3578                                  Angry Dad        Cartoon Mr. Burns  \n",
       "3544  Helen of Troy (Agnes) a la Phyllis Diller  Suitor 1 (Sideshow Mel)  \n",
       "4074                                       Bart                    Marge  \n",
       "2892                                Graeme Edge                    Homer  "
      ]
     },
     "execution_count": 15,
     "metadata": {},
     "output_type": "execute_result"
    }
   ],
   "source": [
    "# let's look inside\n",
    "simpsons.sample(5)"
   ]
  },
  {
   "cell_type": "markdown",
   "metadata": {},
   "source": [
    "We see a row for every edge. The ```season``` and ```episode``` column has the season the conversation happened in. The ```lineid``` is a unique id for the conversation (note that if the conversation involved more than two people, we'd see the same lineid multiple times; see the Bart/Homer/Lisa example above). The columns ```c1``` and ```c2``` hold the two characters' names (the name in c1 will always be alphabetically before c2). For now, this data is as possible, but you may see some inconsistencies with names. For example, you might find different entries for \"Skinner\" and \"Principal Skinner\" even though they are the same character. Since that is not a major focus for this exercise, we will leave it as-is for now.\n",
    "\n",
    "Next, we'll build our network using networkx. "
   ]
  },
  {
   "cell_type": "code",
   "execution_count": 16,
   "metadata": {},
   "outputs": [],
   "source": [
    "# utility classes\n",
    "\n",
    "def buildNetwork(quoteFrame):\n",
    "    # takes as input the quote frame (e.g., simpsons) or some subset of it\n",
    "    # and returns an undirected networkx graph\n",
    "    \n",
    "    weight = quoteFrame.groupby(['c1','c2']).count()\n",
    "    weight = weight.reset_index()\n",
    "    toret = nx.Graph()\n",
    "    for row in weight.iterrows():\n",
    "        row = row[1]\n",
    "        if (row['c1'] not in toret.nodes):\n",
    "            toret.add_node(row['c1'])\n",
    "            toret.nodes[row['c1']]['appearance'] = 0\n",
    "            toret.nodes[row['c1']]['label'] = row['c1']\n",
    "        if (row['c2'] not in toret.nodes):\n",
    "            toret.add_node(row['c2'])\n",
    "            toret.nodes[row['c2']]['appearance'] = 0\n",
    "            toret.nodes[row['c2']]['label'] = row['c2']\n",
    "        toret.nodes[row['c1']]['appearance'] = toret.nodes[row['c1']]['appearance'] + 1\n",
    "        toret.nodes[row['c2']]['appearance'] = toret.nodes[row['c2']]['appearance'] + 1\n",
    "        toret.add_edge(row['c1'],row['c2'])\n",
    "        toret.edges[row['c1'],row['c2']]['weight'] = int(row['season'])\n",
    "    return toret\n",
    "\n",
    "def getLayout(positions):\n",
    "    # helper function to build a dataframe of positions for nodes\n",
    "    elems = []\n",
    "    nodes = list(positions.keys())\n",
    "    for n in nodes:\n",
    "        elems.append({'node':n,'x':positions[n][0],'y':positions[n][1]})\n",
    "    return(pd.DataFrame(elems))\n",
    "\n",
    "def setCommunityLabels(G,communities):\n",
    "    # adds community labels to the networkx graph nodes\n",
    "    id = 0\n",
    "    for c in communities:\n",
    "        id = id + 1\n",
    "        for n in c:\n",
    "            G.nodes[n]['community'] = id\n",
    "    return(G)\n"
   ]
  },
  {
   "cell_type": "code",
   "execution_count": 17,
   "metadata": {},
   "outputs": [],
   "source": [
    "# let's start by grabbing only the network for a single season (6)\n",
    "season6 = buildNetwork(simpsons[simpsons.season == 6])"
   ]
  },
  {
   "cell_type": "code",
   "execution_count": 18,
   "metadata": {},
   "outputs": [
    {
     "data": {
      "text/plain": [
       "NodeView(('Abe', 'Crazy Old Man', 'Family', 'Homer', 'Jasper', 'Quimby', 'Accountant', 'Krusty the Clown', 'Aide', 'Al Gore', 'Bart', 'Kool', 'President', 'the Gang', 'Airport Worker', 'Amish Farmer', 'Announcer', 'Godfrey Jones', 'Kent Brockman', 'Apu', 'Chief Wiggum', 'Moe', 'Audience Member 1', 'Audience Member 2', 'McBain', 'Rainier Wolfcastle', 'Sherman', 'Wolfcastle', 'Australian man', 'Barney', 'Lisa', 'Man', 'Mayor Quimby', 'Woman', \"Bart's Brain\", 'Database', 'Grampa', 'Groundskeeper Willie', 'Helen', 'Helen Lovejoy', 'Hibbert', 'Jessica', 'Jessica Lovejoy', 'Lunchlady Doris', 'Marge', 'Marine', 'Martin', 'Maude', 'Milhouse', 'Mrs. Krabappel', 'Ned', 'Ned Flanders', 'Nelson', 'Principal Skinner', 'Reverend Lovejoy', 'Server', 'Shelby', 'Sherri', 'Sideshow Bob', 'Skinner', 'TV Announcer', 'Teacher', 'Bartender', 'Bob', 'Boy', 'Brother', 'Burns', 'Chespirito', 'Hans Moleman', 'Hopkins', 'Shatner', 'Smithers', 'Spielbergo', 'Carl', 'Lenny', 'Martian', 'Mr. Burns', 'Stonecutters', 'Carla', 'Clavin', 'Norm', 'Sam', 'Woody', 'Dr. Hibbert', 'Homer/Marge', 'Clerk', 'Store Owner', 'Comic Book Guy', 'Congressman', 'Speaker', 'Darth Vader', 'James Earl Jones', 'Mufasa', 'Mufasa/Vader/Jones', 'Murphy', 'Dr. Zweig', 'Euro-Itchy', 'Scratchy Land Ticket Attendant', 'Fat Tony', 'Legs', 'Louie', 'Flanders', 'Frink', 'Girl', 'Pilot 1', 'Pilot 2', 'Hitler', 'Officer', \"Homer's Brain\", \"Homer's Liver\", 'Jay', 'Lesbian', 'Maude Flanders', 'Mr. Peabody', 'Number One', 'Patty', 'Vendor', 'Hugh', 'Hutz', 'Jay Sherman', 'Jimbo', 'Judge', 'Largo', 'Leopold', 'Miss Hoover', 'Ralph', 'Maggie', 'Willie', 'Park Announcer', 'Nurse', 'Mr Burns', 'Old Woman', 'Scott', 'Selma'))"
      ]
     },
     "execution_count": 18,
     "metadata": {},
     "output_type": "execute_result"
    }
   ],
   "source": [
    "# season6 is a networkx object. You can ask for the edges or nodes\n",
    "season6.nodes"
   ]
  },
  {
   "cell_type": "code",
   "execution_count": 19,
   "metadata": {},
   "outputs": [
    {
     "data": {
      "text/plain": [
       "35"
      ]
     },
     "execution_count": 19,
     "metadata": {},
     "output_type": "execute_result"
    }
   ],
   "source": [
    "# we also calculate a special attribute of nodes called 'appearance' which is equivalent to the \n",
    "# degree of the node. This will be useful to us when we want to change the visual property of the \n",
    "# node\n",
    "season6.nodes['Bart']['appearance']"
   ]
  },
  {
   "cell_type": "code",
   "execution_count": 20,
   "metadata": {},
   "outputs": [
    {
     "name": "stdout",
     "output_type": "stream",
     "text": [
      "35\n"
     ]
    }
   ],
   "source": [
    "# which is the same as this\n",
    "print(season6.degree('Bart'))"
   ]
  },
  {
   "cell_type": "code",
   "execution_count": 21,
   "metadata": {},
   "outputs": [
    {
     "data": {
      "text/plain": [
       "19"
      ]
     },
     "execution_count": 21,
     "metadata": {},
     "output_type": "execute_result"
    }
   ],
   "source": [
    "# you can ask for the weights of specific edges:\n",
    "season6.edges['Homer','Bart']['weight']"
   ]
  },
  {
   "cell_type": "code",
   "execution_count": 22,
   "metadata": {},
   "outputs": [],
   "source": [
    "# You can even ask networkx to find the x-y positions for you:\n",
    "circular_pos = nx.circular_layout(season6)\n",
    "# circular_pos"
   ]
  },
  {
   "cell_type": "code",
   "execution_count": 23,
   "metadata": {},
   "outputs": [
    {
     "data": {
      "text/html": [
       "\n",
       "<div id=\"altair-viz-c9f2515774c54862addafca1a9ea5313\"></div>\n",
       "<script type=\"text/javascript\">\n",
       "  (function(spec, embedOpt){\n",
       "    let outputDiv = document.currentScript.previousElementSibling;\n",
       "    if (outputDiv.id !== \"altair-viz-c9f2515774c54862addafca1a9ea5313\") {\n",
       "      outputDiv = document.getElementById(\"altair-viz-c9f2515774c54862addafca1a9ea5313\");\n",
       "    }\n",
       "    const paths = {\n",
       "      \"vega\": \"https://cdn.jsdelivr.net/npm//vega@5?noext\",\n",
       "      \"vega-lib\": \"https://cdn.jsdelivr.net/npm//vega-lib?noext\",\n",
       "      \"vega-lite\": \"https://cdn.jsdelivr.net/npm//vega-lite@4.8.1?noext\",\n",
       "      \"vega-embed\": \"https://cdn.jsdelivr.net/npm//vega-embed@6?noext\",\n",
       "    };\n",
       "\n",
       "    function loadScript(lib) {\n",
       "      return new Promise(function(resolve, reject) {\n",
       "        var s = document.createElement('script');\n",
       "        s.src = paths[lib];\n",
       "        s.async = true;\n",
       "        s.onload = () => resolve(paths[lib]);\n",
       "        s.onerror = () => reject(`Error loading script: ${paths[lib]}`);\n",
       "        document.getElementsByTagName(\"head\")[0].appendChild(s);\n",
       "      });\n",
       "    }\n",
       "\n",
       "    function showError(err) {\n",
       "      outputDiv.innerHTML = `<div class=\"error\" style=\"color:red;\">${err}</div>`;\n",
       "      throw err;\n",
       "    }\n",
       "\n",
       "    function displayChart(vegaEmbed) {\n",
       "      vegaEmbed(outputDiv, spec, embedOpt)\n",
       "        .catch(err => showError(`Javascript Error: ${err.message}<br>This usually means there's a typo in your chart specification. See the javascript console for the full traceback.`));\n",
       "    }\n",
       "\n",
       "    if(typeof define === \"function\" && define.amd) {\n",
       "      requirejs.config({paths});\n",
       "      require([\"vega-embed\"], displayChart, err => showError(`Error loading script: ${err.message}`));\n",
       "    } else if (typeof vegaEmbed === \"function\") {\n",
       "      displayChart(vegaEmbed);\n",
       "    } else {\n",
       "      loadScript(\"vega\")\n",
       "        .then(() => loadScript(\"vega-lite\"))\n",
       "        .then(() => loadScript(\"vega-embed\"))\n",
       "        .catch(showError)\n",
       "        .then(() => displayChart(vegaEmbed));\n",
       "    }\n",
       "  })({\"config\": {\"view\": {\"continuousWidth\": 400, \"continuousHeight\": 300}}, \"layer\": [{\"data\": {\"url\": \"altair-data-2128534c6b85ab937129e1e549545dae.json\", \"format\": {\"type\": \"json\"}}, \"mark\": {\"type\": \"line\", \"color\": \"black\", \"opacity\": 1, \"strokeWidth\": 1}, \"encoding\": {\"detail\": {\"type\": \"quantitative\", \"field\": \"edge\"}, \"x\": {\"type\": \"quantitative\", \"axis\": {\"grid\": false, \"labels\": false, \"ticks\": false, \"title\": \"\"}, \"field\": \"x\"}, \"y\": {\"type\": \"quantitative\", \"axis\": {\"grid\": false, \"labels\": false, \"ticks\": false, \"title\": \"\"}, \"field\": \"y\"}}}, {\"data\": {\"url\": \"altair-data-e838f7ecd43d5bd2139f89e68049b11a.json\", \"format\": {\"type\": \"json\"}}, \"mark\": {\"type\": \"point\", \"fill\": \"red\", \"opacity\": 1, \"size\": 300, \"strokeWidth\": 1.0}, \"encoding\": {\"x\": {\"type\": \"quantitative\", \"axis\": {\"grid\": false, \"labels\": false, \"ticks\": false}, \"field\": \"x\"}, \"y\": {\"type\": \"quantitative\", \"axis\": {\"grid\": false, \"labels\": false, \"ticks\": false}, \"field\": \"y\"}}}], \"$schema\": \"https://vega.github.io/schema/vega-lite/v4.8.1.json\"}, {\"mode\": \"vega-lite\"});\n",
       "</script>"
      ],
      "text/plain": [
       "alt.LayerChart(...)"
      ]
     },
     "execution_count": 23,
     "metadata": {},
     "output_type": "execute_result"
    }
   ],
   "source": [
    "# once you have the layout, you can ask nx-altair to draw the graph for you\n",
    "nxa.draw_networkx(season6, pos = circular_pos)"
   ]
  },
  {
   "cell_type": "markdown",
   "metadata": {},
   "source": [
    "Clearly, a circular layout isn't going to be great here. Thankfully, networkx has many other layouts: https://networkx.org/documentation/stable//reference/drawing.html#layout."
   ]
  },
  {
   "cell_type": "code",
   "execution_count": 24,
   "metadata": {},
   "outputs": [
    {
     "data": {
      "text/html": [
       "\n",
       "<div id=\"altair-viz-bb21cc03a9414fb8a6e1019eb3dd85e8\"></div>\n",
       "<script type=\"text/javascript\">\n",
       "  (function(spec, embedOpt){\n",
       "    let outputDiv = document.currentScript.previousElementSibling;\n",
       "    if (outputDiv.id !== \"altair-viz-bb21cc03a9414fb8a6e1019eb3dd85e8\") {\n",
       "      outputDiv = document.getElementById(\"altair-viz-bb21cc03a9414fb8a6e1019eb3dd85e8\");\n",
       "    }\n",
       "    const paths = {\n",
       "      \"vega\": \"https://cdn.jsdelivr.net/npm//vega@5?noext\",\n",
       "      \"vega-lib\": \"https://cdn.jsdelivr.net/npm//vega-lib?noext\",\n",
       "      \"vega-lite\": \"https://cdn.jsdelivr.net/npm//vega-lite@4.8.1?noext\",\n",
       "      \"vega-embed\": \"https://cdn.jsdelivr.net/npm//vega-embed@6?noext\",\n",
       "    };\n",
       "\n",
       "    function loadScript(lib) {\n",
       "      return new Promise(function(resolve, reject) {\n",
       "        var s = document.createElement('script');\n",
       "        s.src = paths[lib];\n",
       "        s.async = true;\n",
       "        s.onload = () => resolve(paths[lib]);\n",
       "        s.onerror = () => reject(`Error loading script: ${paths[lib]}`);\n",
       "        document.getElementsByTagName(\"head\")[0].appendChild(s);\n",
       "      });\n",
       "    }\n",
       "\n",
       "    function showError(err) {\n",
       "      outputDiv.innerHTML = `<div class=\"error\" style=\"color:red;\">${err}</div>`;\n",
       "      throw err;\n",
       "    }\n",
       "\n",
       "    function displayChart(vegaEmbed) {\n",
       "      vegaEmbed(outputDiv, spec, embedOpt)\n",
       "        .catch(err => showError(`Javascript Error: ${err.message}<br>This usually means there's a typo in your chart specification. See the javascript console for the full traceback.`));\n",
       "    }\n",
       "\n",
       "    if(typeof define === \"function\" && define.amd) {\n",
       "      requirejs.config({paths});\n",
       "      require([\"vega-embed\"], displayChart, err => showError(`Error loading script: ${err.message}`));\n",
       "    } else if (typeof vegaEmbed === \"function\") {\n",
       "      displayChart(vegaEmbed);\n",
       "    } else {\n",
       "      loadScript(\"vega\")\n",
       "        .then(() => loadScript(\"vega-lite\"))\n",
       "        .then(() => loadScript(\"vega-embed\"))\n",
       "        .catch(showError)\n",
       "        .then(() => displayChart(vegaEmbed));\n",
       "    }\n",
       "  })({\"config\": {\"view\": {\"continuousWidth\": 400, \"continuousHeight\": 300}}, \"layer\": [{\"data\": {\"url\": \"altair-data-505f648dfe3a3c6d1d9ac57066da640a.json\", \"format\": {\"type\": \"json\"}}, \"mark\": {\"type\": \"line\", \"color\": \"black\", \"opacity\": 1, \"strokeWidth\": 1}, \"encoding\": {\"detail\": {\"type\": \"quantitative\", \"field\": \"edge\"}, \"x\": {\"type\": \"quantitative\", \"axis\": {\"grid\": false, \"labels\": false, \"ticks\": false, \"title\": \"\"}, \"field\": \"x\"}, \"y\": {\"type\": \"quantitative\", \"axis\": {\"grid\": false, \"labels\": false, \"ticks\": false, \"title\": \"\"}, \"field\": \"y\"}}}, {\"data\": {\"url\": \"altair-data-38940cd4602b92819c0f10d18d27be4a.json\", \"format\": {\"type\": \"json\"}}, \"mark\": {\"type\": \"point\", \"fill\": \"red\", \"opacity\": 1, \"size\": 300, \"strokeWidth\": 1.0}, \"encoding\": {\"x\": {\"type\": \"quantitative\", \"axis\": {\"grid\": false, \"labels\": false, \"ticks\": false}, \"field\": \"x\"}, \"y\": {\"type\": \"quantitative\", \"axis\": {\"grid\": false, \"labels\": false, \"ticks\": false}, \"field\": \"y\"}}}], \"height\": 500, \"width\": 500, \"$schema\": \"https://vega.github.io/schema/vega-lite/v4.8.1.json\"}, {\"mode\": \"vega-lite\"});\n",
       "</script>"
      ],
      "text/plain": [
       "alt.LayerChart(...)"
      ]
     },
     "execution_count": 24,
     "metadata": {},
     "output_type": "execute_result"
    }
   ],
   "source": [
    "# let's try a kamada kawai\n",
    "pos = nx.kamada_kawai_layout(season6)\n",
    "\n",
    "# to generate a good visualization (you shouldn't need to modify the line below)\n",
    "nxa.draw_networkx(season6, pos = pos).properties(\n",
    "    # nx-altair returns an Altair visualization, so we can modify\n",
    "    # the properties as usual\n",
    "    width=500,\n",
    "    height=500\n",
    ")"
   ]
  },
  {
   "cell_type": "markdown",
   "metadata": {},
   "source": [
    "Now let's modify it so that we can add more information.\n",
    "\n",
    "We will use the `draw_networkx` function to control some properties of the visualization."
   ]
  },
  {
   "cell_type": "code",
   "execution_count": 25,
   "metadata": {},
   "outputs": [],
   "source": [
    "# recall that we have calculated 'weight' (an edge feature) and 'apperance' (a node feature--which is the degree)\n",
    "# let's modify our network to visualize these:\n",
    "\n",
    "# nxa.draw_networkx(season6, pos=pos,width='weight',node_color='appearance')"
   ]
  },
  {
   "cell_type": "code",
   "execution_count": 26,
   "metadata": {},
   "outputs": [],
   "source": [
    "e = nxa.draw_networkx_edges(season6, pos=pos)  # get the edge layer\n",
    "# e  # draw it"
   ]
  },
  {
   "cell_type": "code",
   "execution_count": 27,
   "metadata": {},
   "outputs": [],
   "source": [
    "n = nxa.draw_networkx_nodes(season6, pos=pos)  # get the node layer \n",
    "# n # draw it"
   ]
  },
  {
   "cell_type": "code",
   "execution_count": 28,
   "metadata": {},
   "outputs": [
    {
     "data": {
      "text/html": [
       "\n",
       "<div id=\"altair-viz-8c184d92b6a8430186185e388f37a028\"></div>\n",
       "<script type=\"text/javascript\">\n",
       "  (function(spec, embedOpt){\n",
       "    let outputDiv = document.currentScript.previousElementSibling;\n",
       "    if (outputDiv.id !== \"altair-viz-8c184d92b6a8430186185e388f37a028\") {\n",
       "      outputDiv = document.getElementById(\"altair-viz-8c184d92b6a8430186185e388f37a028\");\n",
       "    }\n",
       "    const paths = {\n",
       "      \"vega\": \"https://cdn.jsdelivr.net/npm//vega@5?noext\",\n",
       "      \"vega-lib\": \"https://cdn.jsdelivr.net/npm//vega-lib?noext\",\n",
       "      \"vega-lite\": \"https://cdn.jsdelivr.net/npm//vega-lite@4.8.1?noext\",\n",
       "      \"vega-embed\": \"https://cdn.jsdelivr.net/npm//vega-embed@6?noext\",\n",
       "    };\n",
       "\n",
       "    function loadScript(lib) {\n",
       "      return new Promise(function(resolve, reject) {\n",
       "        var s = document.createElement('script');\n",
       "        s.src = paths[lib];\n",
       "        s.async = true;\n",
       "        s.onload = () => resolve(paths[lib]);\n",
       "        s.onerror = () => reject(`Error loading script: ${paths[lib]}`);\n",
       "        document.getElementsByTagName(\"head\")[0].appendChild(s);\n",
       "      });\n",
       "    }\n",
       "\n",
       "    function showError(err) {\n",
       "      outputDiv.innerHTML = `<div class=\"error\" style=\"color:red;\">${err}</div>`;\n",
       "      throw err;\n",
       "    }\n",
       "\n",
       "    function displayChart(vegaEmbed) {\n",
       "      vegaEmbed(outputDiv, spec, embedOpt)\n",
       "        .catch(err => showError(`Javascript Error: ${err.message}<br>This usually means there's a typo in your chart specification. See the javascript console for the full traceback.`));\n",
       "    }\n",
       "\n",
       "    if(typeof define === \"function\" && define.amd) {\n",
       "      requirejs.config({paths});\n",
       "      require([\"vega-embed\"], displayChart, err => showError(`Error loading script: ${err.message}`));\n",
       "    } else if (typeof vegaEmbed === \"function\") {\n",
       "      displayChart(vegaEmbed);\n",
       "    } else {\n",
       "      loadScript(\"vega\")\n",
       "        .then(() => loadScript(\"vega-lite\"))\n",
       "        .then(() => loadScript(\"vega-embed\"))\n",
       "        .catch(showError)\n",
       "        .then(() => displayChart(vegaEmbed));\n",
       "    }\n",
       "  })({\"config\": {\"view\": {\"continuousWidth\": 400, \"continuousHeight\": 300}}, \"layer\": [{\"data\": {\"url\": \"altair-data-505f648dfe3a3c6d1d9ac57066da640a.json\", \"format\": {\"type\": \"json\"}}, \"mark\": {\"type\": \"line\", \"color\": \"black\", \"opacity\": 1.0, \"strokeWidth\": 1}, \"encoding\": {\"detail\": {\"type\": \"quantitative\", \"field\": \"edge\"}, \"x\": {\"type\": \"quantitative\", \"axis\": {\"grid\": false, \"labels\": false, \"ticks\": false, \"title\": \"\"}, \"field\": \"x\"}, \"y\": {\"type\": \"quantitative\", \"axis\": {\"grid\": false, \"labels\": false, \"ticks\": false, \"title\": \"\"}, \"field\": \"y\"}}}, {\"data\": {\"url\": \"altair-data-38940cd4602b92819c0f10d18d27be4a.json\", \"format\": {\"type\": \"json\"}}, \"mark\": {\"type\": \"point\", \"fill\": \"red\", \"opacity\": 1, \"size\": 300, \"strokeWidth\": 1.0}, \"encoding\": {\"x\": {\"type\": \"quantitative\", \"axis\": {\"grid\": false, \"labels\": false, \"ticks\": false}, \"field\": \"x\"}, \"y\": {\"type\": \"quantitative\", \"axis\": {\"grid\": false, \"labels\": false, \"ticks\": false}, \"field\": \"y\"}}}], \"height\": 500, \"width\": 500, \"$schema\": \"https://vega.github.io/schema/vega-lite/v4.8.1.json\"}, {\"mode\": \"vega-lite\"});\n",
       "</script>"
      ],
      "text/plain": [
       "alt.LayerChart(...)"
      ]
     },
     "execution_count": 28,
     "metadata": {},
     "output_type": "execute_result"
    }
   ],
   "source": [
    "# combine them back\n",
    "(e+n).properties(\n",
    "    width=500,height=500\n",
    ")"
   ]
  },
  {
   "cell_type": "markdown",
   "metadata": {},
   "source": [
    "We're going to calculate a new feature of nodes based on a community detection algorithm. If you want to know more [read here](https://networkx.org/documentation/stable/reference/algorithms/generated/networkx.algorithms.community.modularity_max.greedy_modularity_communities.html). We'll augment our networkx object so we have a ```community``` \"column\" that can be used as a nominal feature of the nodes in visualization. "
   ]
  },
  {
   "cell_type": "code",
   "execution_count": 29,
   "metadata": {},
   "outputs": [],
   "source": [
    "season6 = setCommunityLabels(season6, greedy_modularity_communities(season6))"
   ]
  },
  {
   "cell_type": "code",
   "execution_count": 30,
   "metadata": {},
   "outputs": [
    {
     "data": {
      "text/plain": [
       "2"
      ]
     },
     "execution_count": 30,
     "metadata": {},
     "output_type": "execute_result"
    }
   ],
   "source": [
    "# let's see what community Bart is now in:\n",
    "season6.nodes['Bart']['community']"
   ]
  },
  {
   "cell_type": "code",
   "execution_count": 31,
   "metadata": {},
   "outputs": [
    {
     "data": {
      "text/html": [
       "\n",
       "<div id=\"altair-viz-fe23f3add37f4e80b71866b8ab50c198\"></div>\n",
       "<script type=\"text/javascript\">\n",
       "  (function(spec, embedOpt){\n",
       "    let outputDiv = document.currentScript.previousElementSibling;\n",
       "    if (outputDiv.id !== \"altair-viz-fe23f3add37f4e80b71866b8ab50c198\") {\n",
       "      outputDiv = document.getElementById(\"altair-viz-fe23f3add37f4e80b71866b8ab50c198\");\n",
       "    }\n",
       "    const paths = {\n",
       "      \"vega\": \"https://cdn.jsdelivr.net/npm//vega@5?noext\",\n",
       "      \"vega-lib\": \"https://cdn.jsdelivr.net/npm//vega-lib?noext\",\n",
       "      \"vega-lite\": \"https://cdn.jsdelivr.net/npm//vega-lite@4.8.1?noext\",\n",
       "      \"vega-embed\": \"https://cdn.jsdelivr.net/npm//vega-embed@6?noext\",\n",
       "    };\n",
       "\n",
       "    function loadScript(lib) {\n",
       "      return new Promise(function(resolve, reject) {\n",
       "        var s = document.createElement('script');\n",
       "        s.src = paths[lib];\n",
       "        s.async = true;\n",
       "        s.onload = () => resolve(paths[lib]);\n",
       "        s.onerror = () => reject(`Error loading script: ${paths[lib]}`);\n",
       "        document.getElementsByTagName(\"head\")[0].appendChild(s);\n",
       "      });\n",
       "    }\n",
       "\n",
       "    function showError(err) {\n",
       "      outputDiv.innerHTML = `<div class=\"error\" style=\"color:red;\">${err}</div>`;\n",
       "      throw err;\n",
       "    }\n",
       "\n",
       "    function displayChart(vegaEmbed) {\n",
       "      vegaEmbed(outputDiv, spec, embedOpt)\n",
       "        .catch(err => showError(`Javascript Error: ${err.message}<br>This usually means there's a typo in your chart specification. See the javascript console for the full traceback.`));\n",
       "    }\n",
       "\n",
       "    if(typeof define === \"function\" && define.amd) {\n",
       "      requirejs.config({paths});\n",
       "      require([\"vega-embed\"], displayChart, err => showError(`Error loading script: ${err.message}`));\n",
       "    } else if (typeof vegaEmbed === \"function\") {\n",
       "      displayChart(vegaEmbed);\n",
       "    } else {\n",
       "      loadScript(\"vega\")\n",
       "        .then(() => loadScript(\"vega-lite\"))\n",
       "        .then(() => loadScript(\"vega-embed\"))\n",
       "        .catch(showError)\n",
       "        .then(() => displayChart(vegaEmbed));\n",
       "    }\n",
       "  })({\"config\": {\"view\": {\"continuousWidth\": 400, \"continuousHeight\": 300}}, \"layer\": [{\"data\": {\"url\": \"altair-data-505f648dfe3a3c6d1d9ac57066da640a.json\", \"format\": {\"type\": \"json\"}}, \"mark\": \"line\", \"encoding\": {\"detail\": {\"type\": \"quantitative\", \"field\": \"edge\"}, \"strokeOpacity\": {\"type\": \"nominal\", \"field\": \"weight\"}, \"strokeWidth\": {\"type\": \"nominal\", \"field\": \"weight\", \"legend\": null}, \"x\": {\"type\": \"quantitative\", \"axis\": {\"grid\": false, \"labels\": false, \"ticks\": false, \"title\": \"\"}, \"field\": \"x\"}, \"y\": {\"type\": \"quantitative\", \"axis\": {\"grid\": false, \"labels\": false, \"ticks\": false, \"title\": \"\"}, \"field\": \"y\"}}}, {\"data\": {\"url\": \"altair-data-a22e41757a93f25ca51eaccc9ab3c5ea.json\", \"format\": {\"type\": \"json\"}}, \"mark\": {\"type\": \"circle\", \"opacity\": 1}, \"encoding\": {\"color\": {\"type\": \"nominal\", \"field\": \"community\", \"legend\": null}, \"size\": {\"type\": \"quantitative\", \"field\": \"appearance\"}, \"tooltip\": [{\"type\": \"nominal\", \"field\": \"label\"}], \"x\": {\"type\": \"quantitative\", \"axis\": {\"grid\": false, \"labels\": false, \"ticks\": false}, \"field\": \"x\"}, \"y\": {\"type\": \"quantitative\", \"axis\": {\"grid\": false, \"labels\": false, \"ticks\": false}, \"field\": \"y\"}}}], \"height\": 500, \"width\": 500, \"$schema\": \"https://vega.github.io/schema/vega-lite/v4.8.1.json\"}, {\"mode\": \"vega-lite\"});\n",
       "</script>"
      ],
      "text/plain": [
       "alt.LayerChart(...)"
      ]
     },
     "execution_count": 31,
     "metadata": {},
     "output_type": "execute_result"
    }
   ],
   "source": [
    "e = nxa.draw_networkx_edges(season6, pos=pos)  # get the edge layer\n",
    "n = nxa.draw_networkx_nodes(season6, pos=pos)  # get the node layer \n",
    "\n",
    "# modify the code to change the encodings\n",
    "n = n.mark_circle(opacity=1).encode(\n",
    "    color=alt.Color('community:N',\n",
    "                    legend=None\n",
    "                   ), \n",
    "    size=alt.Size('appearance:Q'),\n",
    "    tooltip=['label:N']\n",
    ")\n",
    "\n",
    "e = e.mark_line().encode(\n",
    "    strokeWidth=alt.StrokeWidth(\n",
    "        'weight:N',\n",
    "        legend=None), \n",
    "    strokeOpacity='weight:N'\n",
    ")\n",
    "\n",
    "\n",
    "(e+n).properties(\n",
    "    width=500,height=500\n",
    ")"
   ]
  },
  {
   "cell_type": "markdown",
   "metadata": {},
   "source": [
    "Now that we have hte basics, we are going to build a visualization to help us compare pairs of seasons. We'd like to understand which characters have been more central to which seasons and how that has changed.\n",
    "\n",
    "Key things we want to address:\n",
    "* color based on community labels\n",
    "* mouse-over interaction that changes the color of ALL of the visualizations if the character appears evverywhere\n",
    "* tooltop over the nodes to get the # of appearances\n",
    "* bars sorted based on changes between seasons"
   ]
  },
  {
   "cell_type": "code",
   "execution_count": 32,
   "metadata": {},
   "outputs": [],
   "source": [
    "# we're going to want the networkx objects for different charts, so let's write a function for that\n",
    "\n",
    "def getNetwork(season):\n",
    "    # build a networkx object given the season, annotate with community labels\n",
    "    toret = buildNetwork(simpsons[simpsons.season == season])\n",
    "    toret = setCommunityLabels(toret,greedy_modularity_communities(toret))\n",
    "    return(toret)"
   ]
  },
  {
   "cell_type": "code",
   "execution_count": 33,
   "metadata": {},
   "outputs": [],
   "source": [
    "# get the networkx objects for seasons 5 and 9\n",
    "s5net = getNetwork(5)\n",
    "s9net = getNetwork(9)"
   ]
  },
  {
   "cell_type": "code",
   "execution_count": 34,
   "metadata": {},
   "outputs": [],
   "source": [
    "# we also want the data for the two bar charts, we're going to do that part for you...\n",
    "\n",
    "def getTotal(G):\n",
    "    # total appearnce across all characters in a given graph\n",
    "    app = 0\n",
    "    for nd in G.nodes:\n",
    "        app = app + G.nodes[nd]['appearance']\n",
    "    return(app)\n",
    "\n",
    "def getComparisonData(G1,G2,threshold=5):\n",
    "    # generate two dataframes given two graphs\n",
    "    # the first is the difference in apparances (normalized) when a character is in both\n",
    "    # the second is for characters that are either in G1 or G2, but not both\n",
    "    # the threshold defines the cutoff for how many interactions a character must have \n",
    "    # to be included in the second ('difference') data frame\n",
    "    t1total = getTotal(G1)\n",
    "    t2total = getTotal(G2)\n",
    "    union = []\n",
    "    difference = []\n",
    "    allentities = set(G1.nodes).union(set(G2.nodes))\n",
    "\n",
    "    for i in allentities:\n",
    "        if ((i in G1.nodes) & (i in G2.nodes)):\n",
    "            diff = G1.nodes[i]['appearance']/t1total-G2.nodes[i]['appearance']/t2total\n",
    "            union.append({'label':i,'difference': diff})\n",
    "        elif (i in G1.nodes):\n",
    "            if (G1.nodes[i]['appearance'] > threshold):\n",
    "                difference.append({'label':i,'difference':-G1.nodes[i]['appearance']/t1total})\n",
    "        elif (i in G2.nodes):\n",
    "            if (G2.nodes[i]['appearance'] > threshold):\n",
    "                difference.append({'label':i,'difference':G2.nodes[i]['appearance']/t2total})\n",
    "\n",
    "    return(pd.DataFrame(union),pd.DataFrame(difference))"
   ]
  },
  {
   "cell_type": "code",
   "execution_count": 35,
   "metadata": {},
   "outputs": [
    {
     "data": {
      "text/html": [
       "<div>\n",
       "<style scoped>\n",
       "    .dataframe tbody tr th:only-of-type {\n",
       "        vertical-align: middle;\n",
       "    }\n",
       "\n",
       "    .dataframe tbody tr th {\n",
       "        vertical-align: top;\n",
       "    }\n",
       "\n",
       "    .dataframe thead th {\n",
       "        text-align: right;\n",
       "    }\n",
       "</style>\n",
       "<table border=\"1\" class=\"dataframe\">\n",
       "  <thead>\n",
       "    <tr style=\"text-align: right;\">\n",
       "      <th></th>\n",
       "      <th>label</th>\n",
       "      <th>difference</th>\n",
       "    </tr>\n",
       "  </thead>\n",
       "  <tbody>\n",
       "    <tr>\n",
       "      <th>23</th>\n",
       "      <td>Grampa Simpson</td>\n",
       "      <td>0.004245</td>\n",
       "    </tr>\n",
       "    <tr>\n",
       "      <th>26</th>\n",
       "      <td>Skinner</td>\n",
       "      <td>-0.015174</td>\n",
       "    </tr>\n",
       "    <tr>\n",
       "      <th>10</th>\n",
       "      <td>Principal Skinner</td>\n",
       "      <td>-0.004432</td>\n",
       "    </tr>\n",
       "    <tr>\n",
       "      <th>0</th>\n",
       "      <td>Nelson</td>\n",
       "      <td>0.006309</td>\n",
       "    </tr>\n",
       "    <tr>\n",
       "      <th>27</th>\n",
       "      <td>Mayor Quimby</td>\n",
       "      <td>0.003119</td>\n",
       "    </tr>\n",
       "  </tbody>\n",
       "</table>\n",
       "</div>"
      ],
      "text/plain": [
       "                label  difference\n",
       "23     Grampa Simpson    0.004245\n",
       "26            Skinner   -0.015174\n",
       "10  Principal Skinner   -0.004432\n",
       "0              Nelson    0.006309\n",
       "27       Mayor Quimby    0.003119"
      ]
     },
     "execution_count": 35,
     "metadata": {},
     "output_type": "execute_result"
    }
   ],
   "source": [
    "# let's compare the season 5 and 9 networks\n",
    "union,difference = getComparisonData(s5net,s9net)\n",
    "\n",
    "# look inside the union dataframe (the difference one will be similar)\n",
    "union.sample(5)"
   ]
  },
  {
   "cell_type": "code",
   "execution_count": 36,
   "metadata": {},
   "outputs": [],
   "source": [
    "def getComparisonBar(frame,sel,title):\n",
    "    # return an Altair chart corresponding to the bar chart example\n",
    "    # above, given one of the two frames (difference or union)\n",
    "    # frame is a pandas dataframe\n",
    "    # sel is the Altair selection object (for interactivity)\n",
    "    # title is the title for the chart\n",
    "    \n",
    "    sort_vals = frame.sort_values(by='difference',ascending=False)\n",
    "    sort_vals = list(sort_vals['label'].unique())\n",
    "    \n",
    "    c1 = alt.Chart(frame).mark_bar().encode(\n",
    "        x=alt.X('difference:Q',\n",
    "                axis=alt.Axis(ticks=False,\n",
    "                              grid=True,\n",
    "                              labels=True),\n",
    "                title=None), \n",
    "        y=alt.Y('label:N',\n",
    "                sort=sort_vals,\n",
    "                axis=alt.Axis(ticks=True,\n",
    "                              grid=False),\n",
    "                title=None),\n",
    "        color=alt.Color('difference:N', \n",
    "                        scale=alt.Scale(scheme='blues'),\n",
    "                        legend=None)\n",
    "    ).properties(\n",
    "        title=title,\n",
    "        width=100,\n",
    "        height=350\n",
    "    ).add_selection(\n",
    "        sel\n",
    "    ).encode(\n",
    "        color=alt.condition(sel,\n",
    "                           alt.Color(\"difference:N\", \n",
    "                                     scale=alt.Scale(scheme='blues'), \n",
    "                                     legend=None),\n",
    "                           alt.value('lightgray'),\n",
    "                           legend=None)\n",
    "    )\n",
    "    \n",
    "    return(c1)\n"
   ]
  },
  {
   "cell_type": "code",
   "execution_count": 37,
   "metadata": {},
   "outputs": [],
   "source": [
    "def getNetworkDiagram(G,season,sel):\n",
    "    # return an Altair chart corresponding to network diagram above for the given season\n",
    "    # G is the networkx object\n",
    "    # season is the season\n",
    "    # sel is the Altair selection object (for interactivity)\n",
    "\n",
    "    seasonN = buildNetwork(simpsons[simpsons.season == season])\n",
    "    pos = nx.kamada_kawai_layout(seasonN)\n",
    "    edges = nxa.draw_networkx_edges(G, pos=pos)\n",
    "    nodes = nxa.draw_networkx_nodes(G, pos=pos)\n",
    "    \n",
    "    nodes = nodes.mark_circle(opacity=1,size=250).encode(color=alt.Color('community:N',\n",
    "                                                                         legend=None),\n",
    "                                                         tooltip=['label', 'community', 'appearance'])\n",
    "    \n",
    "    edges = edges.mark_line(color='black',strokeWidth=0.5)\n",
    "    \n",
    "    nodes = nodes.properties(\n",
    "        title=\"Season \"+str(season),\n",
    "        width=400,\n",
    "        height=350\n",
    "    ).add_selection(\n",
    "        sel\n",
    "    ).encode(\n",
    "        color=alt.condition(sel,\n",
    "                                 alt.Color(\"community:N\",\n",
    "#                                            scale=alt.Scale(scheme='category10'),\n",
    "                                           legend=None\n",
    "                                          ),\n",
    "                                 alt.value('lightgray'),\n",
    "                                 legend=None)\n",
    "    )\n",
    "    \n",
    "    c2 = (edges + nodes).resolve_scale(color='independent')\n",
    "    \n",
    "    return(c2)\n"
   ]
  },
  {
   "cell_type": "code",
   "execution_count": 38,
   "metadata": {},
   "outputs": [],
   "source": [
    "# this function will build the dashboard\n",
    "def getNetworkDashboard(season1,season2):\n",
    "    \n",
    "    # create the selection object, based on mouseover. It should look at the \"label\" of whatever we hover \n",
    "    # over as a way of deciding other objects with the same label\n",
    "    single = alt.selection_single(on='mouseover',fields=['label'])\n",
    "    \n",
    "    # get the two networkx objects\n",
    "    s1net = getNetwork(season1)\n",
    "    s2net = getNetwork(season2)\n",
    "    \n",
    "    # get the union and difference dataframes\n",
    "    union,difference = getComparisonData(s1net,s2net)\n",
    "\n",
    "    # build the top bar chart\n",
    "    u = getComparisonBar(union,single,\"Appears in Both\")\n",
    "    \n",
    "    # build the top network\n",
    "    s1 = getNetworkDiagram(s1net,season1,single)\n",
    "    \n",
    "    # build the bottom network\n",
    "    s2 = getNetworkDiagram(s2net,season2,single)\n",
    "    \n",
    "    # in some cases, we don't have new characters given the thresold we set\n",
    "    if (len(difference) == 0):\n",
    "        # we won't return the bottom chart\n",
    "        return((s1&s2)|u)\n",
    "    else:\n",
    "        # we have both bar charts\n",
    "        # build the bottom bar chart\n",
    "        d = getComparisonBar(difference,single,\"New Characters\")\n",
    "        # return all charts\n",
    "        return((s1&s2)|(u&d))\n",
    "\n"
   ]
  },
  {
   "cell_type": "code",
   "execution_count": 39,
   "metadata": {},
   "outputs": [
    {
     "data": {
      "text/html": [
       "\n",
       "<div id=\"altair-viz-9fd51515fbfd42b598bf93214ba2153a\"></div>\n",
       "<script type=\"text/javascript\">\n",
       "  (function(spec, embedOpt){\n",
       "    let outputDiv = document.currentScript.previousElementSibling;\n",
       "    if (outputDiv.id !== \"altair-viz-9fd51515fbfd42b598bf93214ba2153a\") {\n",
       "      outputDiv = document.getElementById(\"altair-viz-9fd51515fbfd42b598bf93214ba2153a\");\n",
       "    }\n",
       "    const paths = {\n",
       "      \"vega\": \"https://cdn.jsdelivr.net/npm//vega@5?noext\",\n",
       "      \"vega-lib\": \"https://cdn.jsdelivr.net/npm//vega-lib?noext\",\n",
       "      \"vega-lite\": \"https://cdn.jsdelivr.net/npm//vega-lite@4.8.1?noext\",\n",
       "      \"vega-embed\": \"https://cdn.jsdelivr.net/npm//vega-embed@6?noext\",\n",
       "    };\n",
       "\n",
       "    function loadScript(lib) {\n",
       "      return new Promise(function(resolve, reject) {\n",
       "        var s = document.createElement('script');\n",
       "        s.src = paths[lib];\n",
       "        s.async = true;\n",
       "        s.onload = () => resolve(paths[lib]);\n",
       "        s.onerror = () => reject(`Error loading script: ${paths[lib]}`);\n",
       "        document.getElementsByTagName(\"head\")[0].appendChild(s);\n",
       "      });\n",
       "    }\n",
       "\n",
       "    function showError(err) {\n",
       "      outputDiv.innerHTML = `<div class=\"error\" style=\"color:red;\">${err}</div>`;\n",
       "      throw err;\n",
       "    }\n",
       "\n",
       "    function displayChart(vegaEmbed) {\n",
       "      vegaEmbed(outputDiv, spec, embedOpt)\n",
       "        .catch(err => showError(`Javascript Error: ${err.message}<br>This usually means there's a typo in your chart specification. See the javascript console for the full traceback.`));\n",
       "    }\n",
       "\n",
       "    if(typeof define === \"function\" && define.amd) {\n",
       "      requirejs.config({paths});\n",
       "      require([\"vega-embed\"], displayChart, err => showError(`Error loading script: ${err.message}`));\n",
       "    } else if (typeof vegaEmbed === \"function\") {\n",
       "      displayChart(vegaEmbed);\n",
       "    } else {\n",
       "      loadScript(\"vega\")\n",
       "        .then(() => loadScript(\"vega-lite\"))\n",
       "        .then(() => loadScript(\"vega-embed\"))\n",
       "        .catch(showError)\n",
       "        .then(() => displayChart(vegaEmbed));\n",
       "    }\n",
       "  })({\"config\": {\"view\": {\"continuousWidth\": 400, \"continuousHeight\": 300}}, \"hconcat\": [{\"vconcat\": [{\"layer\": [{\"data\": {\"url\": \"altair-data-7ca6d8c3d9eda82731de093aaf08103e.json\", \"format\": {\"type\": \"json\"}}, \"mark\": {\"type\": \"line\", \"color\": \"black\", \"strokeWidth\": 0.5}, \"encoding\": {\"detail\": {\"type\": \"quantitative\", \"field\": \"edge\"}, \"x\": {\"type\": \"quantitative\", \"axis\": {\"grid\": false, \"labels\": false, \"ticks\": false, \"title\": \"\"}, \"field\": \"x\"}, \"y\": {\"type\": \"quantitative\", \"axis\": {\"grid\": false, \"labels\": false, \"ticks\": false, \"title\": \"\"}, \"field\": \"y\"}}}, {\"data\": {\"url\": \"altair-data-f97a3002e407b939077d963dc1ba4412.json\", \"format\": {\"type\": \"json\"}}, \"mark\": {\"type\": \"circle\", \"opacity\": 1, \"size\": 250}, \"encoding\": {\"color\": {\"condition\": {\"type\": \"nominal\", \"field\": \"community\", \"legend\": null, \"selection\": \"selector002\"}, \"value\": \"lightgray\"}, \"tooltip\": [{\"type\": \"nominal\", \"field\": \"label\"}, {\"type\": \"quantitative\", \"field\": \"community\"}, {\"type\": \"quantitative\", \"field\": \"appearance\"}], \"x\": {\"type\": \"quantitative\", \"axis\": {\"grid\": false, \"labels\": false, \"ticks\": false}, \"field\": \"x\"}, \"y\": {\"type\": \"quantitative\", \"axis\": {\"grid\": false, \"labels\": false, \"ticks\": false}, \"field\": \"y\"}}, \"height\": 350, \"selection\": {\"selector002\": {\"type\": \"single\", \"on\": \"mouseover\", \"fields\": [\"label\"]}}, \"title\": \"Season 5\", \"width\": 400}], \"resolve\": {\"scale\": {\"color\": \"independent\"}}}, {\"layer\": [{\"data\": {\"url\": \"altair-data-3e34848d1d7531c8562b52face474c63.json\", \"format\": {\"type\": \"json\"}}, \"mark\": {\"type\": \"line\", \"color\": \"black\", \"strokeWidth\": 0.5}, \"encoding\": {\"detail\": {\"type\": \"quantitative\", \"field\": \"edge\"}, \"x\": {\"type\": \"quantitative\", \"axis\": {\"grid\": false, \"labels\": false, \"ticks\": false, \"title\": \"\"}, \"field\": \"x\"}, \"y\": {\"type\": \"quantitative\", \"axis\": {\"grid\": false, \"labels\": false, \"ticks\": false, \"title\": \"\"}, \"field\": \"y\"}}}, {\"data\": {\"url\": \"altair-data-f33ee2156106b5c99c1ef286ad59c4b6.json\", \"format\": {\"type\": \"json\"}}, \"mark\": {\"type\": \"circle\", \"opacity\": 1, \"size\": 250}, \"encoding\": {\"color\": {\"condition\": {\"type\": \"nominal\", \"field\": \"community\", \"legend\": null, \"selection\": \"selector002\"}, \"value\": \"lightgray\"}, \"tooltip\": [{\"type\": \"nominal\", \"field\": \"label\"}, {\"type\": \"quantitative\", \"field\": \"community\"}, {\"type\": \"quantitative\", \"field\": \"appearance\"}], \"x\": {\"type\": \"quantitative\", \"axis\": {\"grid\": false, \"labels\": false, \"ticks\": false}, \"field\": \"x\"}, \"y\": {\"type\": \"quantitative\", \"axis\": {\"grid\": false, \"labels\": false, \"ticks\": false}, \"field\": \"y\"}}, \"height\": 350, \"selection\": {\"selector002\": {\"type\": \"single\", \"on\": \"mouseover\", \"fields\": [\"label\"]}}, \"title\": \"Season 9\", \"width\": 400}], \"resolve\": {\"scale\": {\"color\": \"independent\"}}}]}, {\"vconcat\": [{\"data\": {\"url\": \"altair-data-102f6d901edf87a200fc410645b278b4.json\", \"format\": {\"type\": \"json\"}}, \"mark\": \"bar\", \"encoding\": {\"color\": {\"condition\": {\"type\": \"nominal\", \"field\": \"difference\", \"legend\": null, \"scale\": {\"scheme\": \"blues\"}, \"selection\": \"selector002\"}, \"value\": \"lightgray\"}, \"x\": {\"type\": \"quantitative\", \"axis\": {\"grid\": true, \"labels\": true, \"ticks\": false}, \"field\": \"difference\", \"title\": null}, \"y\": {\"type\": \"nominal\", \"axis\": {\"grid\": false, \"ticks\": true}, \"field\": \"label\", \"sort\": [\"Mr. Burns\", \"Kent Brockman\", \"Flanders\", \"Barney\", \"Smithers\", \"Apu\", \"Lionel Hutz\", \"Nelson\", \"Martin\", \"Grampa Simpson\", \"Milhouse\", \"Mayor Quimby\", \"Kent\", \"Wiggum\", \"Carl\", \"Burns\", \"Ned\", \"Marge\", \"Grampa\", \"Moe\", \"Superintendent Chalmers\", \"Krusty\", \"Chief Wiggum\", \"Principal Skinner\", \"Bart\", \"Homer\", \"Lenny\", \"Skinner\", \"Lisa\"], \"title\": null}}, \"height\": 350, \"selection\": {\"selector002\": {\"type\": \"single\", \"on\": \"mouseover\", \"fields\": [\"label\"]}}, \"title\": \"Appears in Both\", \"width\": 100}, {\"data\": {\"url\": \"altair-data-c2854aab864e82fa0dfb722ad955f284.json\", \"format\": {\"type\": \"json\"}}, \"mark\": \"bar\", \"encoding\": {\"color\": {\"condition\": {\"type\": \"nominal\", \"field\": \"difference\", \"legend\": null, \"scale\": {\"scheme\": \"blues\"}, \"selection\": \"selector002\"}, \"value\": \"lightgray\"}, \"x\": {\"type\": \"quantitative\", \"axis\": {\"grid\": true, \"labels\": true, \"ticks\": false}, \"field\": \"difference\", \"title\": null}, \"y\": {\"type\": \"nominal\", \"axis\": {\"grid\": false, \"ticks\": true}, \"field\": \"label\", \"sort\": [\"Ned Flanders\", \"Stanley\", \"Sideshow Mel\", \"Guy 2\", \"Groundskeeper Willie\", \"Chet\", \"Guy 4\", \"Guy 3\", \"Guy 6\", \"Guy 5\", \"Guy\", \"Scotsman\", \"Ralph\", \"Agnes\", \"Sherri/Terri\", \"Wendell\", \"Todd\", \"Rod\", \"Farah\", \"Loni\", \"Male NRC agent\", \"Kitty\", \"Announcer\", \"Spike\", \"Brad Goodman\", \"Billy\", \"Sideshow Bob\", \"Maggie\"], \"title\": null}}, \"height\": 350, \"selection\": {\"selector002\": {\"type\": \"single\", \"on\": \"mouseover\", \"fields\": [\"label\"]}}, \"title\": \"New Characters\", \"width\": 100}]}], \"$schema\": \"https://vega.github.io/schema/vega-lite/v4.8.1.json\"}, {\"mode\": \"vega-lite\"});\n",
       "</script>"
      ],
      "text/plain": [
       "alt.HConcatChart(...)"
      ]
     },
     "execution_count": 39,
     "metadata": {},
     "output_type": "execute_result"
    }
   ],
   "source": [
    "# implement dashboard\n",
    "getNetworkDashboard(5,9)"
   ]
  },
  {
   "cell_type": "code",
   "execution_count": 40,
   "metadata": {},
   "outputs": [
    {
     "data": {
      "text/html": [
       "\n",
       "<div id=\"altair-viz-7fb6ffbffa8447d7ae08b2c5f2a50e81\"></div>\n",
       "<script type=\"text/javascript\">\n",
       "  (function(spec, embedOpt){\n",
       "    let outputDiv = document.currentScript.previousElementSibling;\n",
       "    if (outputDiv.id !== \"altair-viz-7fb6ffbffa8447d7ae08b2c5f2a50e81\") {\n",
       "      outputDiv = document.getElementById(\"altair-viz-7fb6ffbffa8447d7ae08b2c5f2a50e81\");\n",
       "    }\n",
       "    const paths = {\n",
       "      \"vega\": \"https://cdn.jsdelivr.net/npm//vega@5?noext\",\n",
       "      \"vega-lib\": \"https://cdn.jsdelivr.net/npm//vega-lib?noext\",\n",
       "      \"vega-lite\": \"https://cdn.jsdelivr.net/npm//vega-lite@4.8.1?noext\",\n",
       "      \"vega-embed\": \"https://cdn.jsdelivr.net/npm//vega-embed@6?noext\",\n",
       "    };\n",
       "\n",
       "    function loadScript(lib) {\n",
       "      return new Promise(function(resolve, reject) {\n",
       "        var s = document.createElement('script');\n",
       "        s.src = paths[lib];\n",
       "        s.async = true;\n",
       "        s.onload = () => resolve(paths[lib]);\n",
       "        s.onerror = () => reject(`Error loading script: ${paths[lib]}`);\n",
       "        document.getElementsByTagName(\"head\")[0].appendChild(s);\n",
       "      });\n",
       "    }\n",
       "\n",
       "    function showError(err) {\n",
       "      outputDiv.innerHTML = `<div class=\"error\" style=\"color:red;\">${err}</div>`;\n",
       "      throw err;\n",
       "    }\n",
       "\n",
       "    function displayChart(vegaEmbed) {\n",
       "      vegaEmbed(outputDiv, spec, embedOpt)\n",
       "        .catch(err => showError(`Javascript Error: ${err.message}<br>This usually means there's a typo in your chart specification. See the javascript console for the full traceback.`));\n",
       "    }\n",
       "\n",
       "    if(typeof define === \"function\" && define.amd) {\n",
       "      requirejs.config({paths});\n",
       "      require([\"vega-embed\"], displayChart, err => showError(`Error loading script: ${err.message}`));\n",
       "    } else if (typeof vegaEmbed === \"function\") {\n",
       "      displayChart(vegaEmbed);\n",
       "    } else {\n",
       "      loadScript(\"vega\")\n",
       "        .then(() => loadScript(\"vega-lite\"))\n",
       "        .then(() => loadScript(\"vega-embed\"))\n",
       "        .catch(showError)\n",
       "        .then(() => displayChart(vegaEmbed));\n",
       "    }\n",
       "  })({\"config\": {\"view\": {\"continuousWidth\": 400, \"continuousHeight\": 300}}, \"hconcat\": [{\"vconcat\": [{\"layer\": [{\"data\": {\"url\": \"altair-data-23e184c5b4f8349e365e91c6a7c7cfea.json\", \"format\": {\"type\": \"json\"}}, \"mark\": {\"type\": \"line\", \"color\": \"black\", \"strokeWidth\": 0.5}, \"encoding\": {\"detail\": {\"type\": \"quantitative\", \"field\": \"edge\"}, \"x\": {\"type\": \"quantitative\", \"axis\": {\"grid\": false, \"labels\": false, \"ticks\": false, \"title\": \"\"}, \"field\": \"x\"}, \"y\": {\"type\": \"quantitative\", \"axis\": {\"grid\": false, \"labels\": false, \"ticks\": false, \"title\": \"\"}, \"field\": \"y\"}}}, {\"data\": {\"url\": \"altair-data-84b404475c92971375f2136389536d9b.json\", \"format\": {\"type\": \"json\"}}, \"mark\": {\"type\": \"circle\", \"opacity\": 1, \"size\": 250}, \"encoding\": {\"color\": {\"condition\": {\"type\": \"nominal\", \"field\": \"community\", \"legend\": null, \"selection\": \"selector003\"}, \"value\": \"lightgray\"}, \"tooltip\": [{\"type\": \"nominal\", \"field\": \"label\"}, {\"type\": \"quantitative\", \"field\": \"community\"}, {\"type\": \"quantitative\", \"field\": \"appearance\"}], \"x\": {\"type\": \"quantitative\", \"axis\": {\"grid\": false, \"labels\": false, \"ticks\": false}, \"field\": \"x\"}, \"y\": {\"type\": \"quantitative\", \"axis\": {\"grid\": false, \"labels\": false, \"ticks\": false}, \"field\": \"y\"}}, \"height\": 350, \"selection\": {\"selector003\": {\"type\": \"single\", \"on\": \"mouseover\", \"fields\": [\"label\"]}}, \"title\": \"Season 1\", \"width\": 400}], \"resolve\": {\"scale\": {\"color\": \"independent\"}}}, {\"layer\": [{\"data\": {\"url\": \"altair-data-e03d5991ece372f3eee450c5adfaa314.json\", \"format\": {\"type\": \"json\"}}, \"mark\": {\"type\": \"line\", \"color\": \"black\", \"strokeWidth\": 0.5}, \"encoding\": {\"detail\": {\"type\": \"quantitative\", \"field\": \"edge\"}, \"x\": {\"type\": \"quantitative\", \"axis\": {\"grid\": false, \"labels\": false, \"ticks\": false, \"title\": \"\"}, \"field\": \"x\"}, \"y\": {\"type\": \"quantitative\", \"axis\": {\"grid\": false, \"labels\": false, \"ticks\": false, \"title\": \"\"}, \"field\": \"y\"}}}, {\"data\": {\"url\": \"altair-data-5012da89303ce0a2132e9ac7e635a972.json\", \"format\": {\"type\": \"json\"}}, \"mark\": {\"type\": \"circle\", \"opacity\": 1, \"size\": 250}, \"encoding\": {\"color\": {\"condition\": {\"type\": \"nominal\", \"field\": \"community\", \"legend\": null, \"selection\": \"selector003\"}, \"value\": \"lightgray\"}, \"tooltip\": [{\"type\": \"nominal\", \"field\": \"label\"}, {\"type\": \"quantitative\", \"field\": \"community\"}, {\"type\": \"quantitative\", \"field\": \"appearance\"}], \"x\": {\"type\": \"quantitative\", \"axis\": {\"grid\": false, \"labels\": false, \"ticks\": false}, \"field\": \"x\"}, \"y\": {\"type\": \"quantitative\", \"axis\": {\"grid\": false, \"labels\": false, \"ticks\": false}, \"field\": \"y\"}}, \"height\": 350, \"selection\": {\"selector003\": {\"type\": \"single\", \"on\": \"mouseover\", \"fields\": [\"label\"]}}, \"title\": \"Season 10\", \"width\": 400}], \"resolve\": {\"scale\": {\"color\": \"independent\"}}}]}, {\"vconcat\": [{\"data\": {\"url\": \"altair-data-c59e93ff252d2ca00f1fce9265d70795.json\", \"format\": {\"type\": \"json\"}}, \"mark\": \"bar\", \"encoding\": {\"color\": {\"condition\": {\"type\": \"nominal\", \"field\": \"difference\", \"legend\": null, \"scale\": {\"scheme\": \"blues\"}, \"selection\": \"selector003\"}, \"value\": \"lightgray\"}, \"x\": {\"type\": \"quantitative\", \"axis\": {\"grid\": true, \"labels\": true, \"ticks\": false}, \"field\": \"difference\", \"title\": null}, \"y\": {\"type\": \"nominal\", \"axis\": {\"grid\": false, \"ticks\": true}, \"field\": \"label\", \"sort\": [\"Bart\", \"Eddie\", \"Chief Wiggum\", \"Mr. Burns\", \"Marge\", \"Homer\", \"Lisa\", \"Moe\", \"Principal Skinner\"], \"title\": null}}, \"height\": 350, \"selection\": {\"selector003\": {\"type\": \"single\", \"on\": \"mouseover\", \"fields\": [\"label\"]}}, \"title\": \"Appears in Both\", \"width\": 100}, {\"data\": {\"url\": \"altair-data-3dde0e1415986789181d49108c75deee.json\", \"format\": {\"type\": \"json\"}}, \"mark\": \"bar\", \"encoding\": {\"color\": {\"condition\": {\"type\": \"nominal\", \"field\": \"difference\", \"legend\": null, \"scale\": {\"scheme\": \"blues\"}, \"selection\": \"selector003\"}, \"value\": \"lightgray\"}, \"x\": {\"type\": \"quantitative\", \"axis\": {\"grid\": true, \"labels\": true, \"ticks\": false}, \"field\": \"difference\", \"title\": null}, \"y\": {\"type\": \"nominal\", \"axis\": {\"grid\": false, \"ticks\": true}, \"field\": \"label\", \"sort\": [\"Nelson\", \"Skinner\", \"Homer Simpson\", \"Ralph\", \"Chalmers\", \"Superintendent Chalmers\", \"Wiggum\"], \"title\": null}}, \"height\": 350, \"selection\": {\"selector003\": {\"type\": \"single\", \"on\": \"mouseover\", \"fields\": [\"label\"]}}, \"title\": \"New Characters\", \"width\": 100}]}], \"$schema\": \"https://vega.github.io/schema/vega-lite/v4.8.1.json\"}, {\"mode\": \"vega-lite\"});\n",
       "</script>"
      ],
      "text/plain": [
       "alt.HConcatChart(...)"
      ]
     },
     "execution_count": 40,
     "metadata": {},
     "output_type": "execute_result"
    }
   ],
   "source": [
    "# Let's see the differences between season 1 and season 10\n",
    "getNetworkDashboard(1,10)"
   ]
  },
  {
   "cell_type": "markdown",
   "metadata": {},
   "source": [
    "_______\n",
    "\n",
    "#### Matrix Representation of Network\n",
    "\n",
    "For the final exercise, we will generate a matrix representation of the network. To reduce noise in the dataset, we will include only characters who have interacted 6 or more times with each other. We will use a tooltip to provide a bit more detail."
   ]
  },
  {
   "cell_type": "code",
   "execution_count": 41,
   "metadata": {},
   "outputs": [],
   "source": [
    "def getMatrixDetails(df,threshold=6,removeIsolates=True):\n",
    "    # given a dataframe with characters (c1,c2, etc.)\n",
    "    # the returned matrix will find the number of interactions in the dataframe\n",
    "    # find statistics to generate a matrix representation\n",
    "    # threshold will be the minimum number of interactions between characters (6)\n",
    "    # removeIsolates determiens if isolated nodes (nodes not connected to anything) are removed\n",
    "    \n",
    "    # this function returns 3 things\n",
    "    # the long form dataframe with pairs of nodes and the count\n",
    "    # the node order of nodes in the matrix given the input\n",
    "    # a list of list -- an edge list for all nodes\n",
    "    t = buildNetwork(df)\n",
    "    for e in t.edges:\n",
    "        if (t.edges[e]['weight'] < threshold):\n",
    "            t.remove_edge(e[0],e[1])\n",
    "    if(removeIsolates):\n",
    "        t.remove_nodes_from(list(nx.isolates(t)))\n",
    "\n",
    "    m,names,a,b,w = [],[],[],[],[]\n",
    "\n",
    "    for n1 in t.nodes:\n",
    "        e = []\n",
    "        names.append(n1)\n",
    "        for n2 in t.nodes:\n",
    "            if(t.has_edge(n1,n2)):\n",
    "                a.append(n1)\n",
    "                b.append(n2)\n",
    "                w.append(t.edges[n1,n2]['weight'])\n",
    "                e.append(t.edges[n1,n2]['weight'])\n",
    "            else:\n",
    "                e.append(0)\n",
    "        m.append(e)\n",
    "\n",
    "    toret = pd.DataFrame()\n",
    "    toret['p1'] = a\n",
    "    toret['p2'] = b\n",
    "    toret['weight'] = w\n",
    "    return(toret,names,m)"
   ]
  },
  {
   "cell_type": "code",
   "execution_count": 42,
   "metadata": {},
   "outputs": [],
   "source": [
    "# let's call this for the entire dataset\n",
    "df,names,m = getMatrixDetails(simpsons)"
   ]
  },
  {
   "cell_type": "code",
   "execution_count": 43,
   "metadata": {
    "scrolled": true
   },
   "outputs": [
    {
     "data": {
      "text/html": [
       "<div>\n",
       "<style scoped>\n",
       "    .dataframe tbody tr th:only-of-type {\n",
       "        vertical-align: middle;\n",
       "    }\n",
       "\n",
       "    .dataframe tbody tr th {\n",
       "        vertical-align: top;\n",
       "    }\n",
       "\n",
       "    .dataframe thead th {\n",
       "        text-align: right;\n",
       "    }\n",
       "</style>\n",
       "<table border=\"1\" class=\"dataframe\">\n",
       "  <thead>\n",
       "    <tr style=\"text-align: right;\">\n",
       "      <th></th>\n",
       "      <th>p1</th>\n",
       "      <th>p2</th>\n",
       "      <th>weight</th>\n",
       "    </tr>\n",
       "  </thead>\n",
       "  <tbody>\n",
       "    <tr>\n",
       "      <th>37</th>\n",
       "      <td>Bart</td>\n",
       "      <td>Ned</td>\n",
       "      <td>6</td>\n",
       "    </tr>\n",
       "    <tr>\n",
       "      <th>141</th>\n",
       "      <td>Nelson</td>\n",
       "      <td>Bart</td>\n",
       "      <td>29</td>\n",
       "    </tr>\n",
       "    <tr>\n",
       "      <th>130</th>\n",
       "      <td>Milhouse</td>\n",
       "      <td>Bart</td>\n",
       "      <td>43</td>\n",
       "    </tr>\n",
       "    <tr>\n",
       "      <th>128</th>\n",
       "      <td>Fat Tony</td>\n",
       "      <td>Homer</td>\n",
       "      <td>6</td>\n",
       "    </tr>\n",
       "    <tr>\n",
       "      <th>17</th>\n",
       "      <td>Homer</td>\n",
       "      <td>Principal Skinner</td>\n",
       "      <td>8</td>\n",
       "    </tr>\n",
       "  </tbody>\n",
       "</table>\n",
       "</div>"
      ],
      "text/plain": [
       "           p1                 p2  weight\n",
       "37       Bart                Ned       6\n",
       "141    Nelson               Bart      29\n",
       "130  Milhouse               Bart      43\n",
       "128  Fat Tony              Homer       6\n",
       "17      Homer  Principal Skinner       8"
      ]
     },
     "execution_count": 43,
     "metadata": {},
     "output_type": "execute_result"
    }
   ],
   "source": [
    "# we'll get back to names and m in a moment, but let's look at what's inside the df:\n",
    "df.sample(5)"
   ]
  },
  {
   "cell_type": "code",
   "execution_count": 44,
   "metadata": {},
   "outputs": [],
   "source": [
    "def genMatrix1(inframe,threshold=6):\n",
    "    # takes an input frame as input\n",
    "    # returns an altair plot for the matrix as described above\n",
    "    df,names,m = getMatrixDetails(inframe,threshold=threshold)\n",
    "\n",
    "    # modify the following\n",
    "    toret = alt.Chart(df).mark_rect().encode(\n",
    "        x=alt.X('p1:N'), \n",
    "        y=alt.Y('p2:N'), \n",
    "        color=alt.Color('weight:N', scale=alt.Scale(scheme='blues')),\n",
    "        tooltip=['p1','p2','weight']\n",
    "    ).properties(width=700,height=700)\n",
    "    \n",
    "    return(toret)"
   ]
  },
  {
   "cell_type": "code",
   "execution_count": 45,
   "metadata": {},
   "outputs": [
    {
     "data": {
      "text/html": [
       "\n",
       "<div id=\"altair-viz-1dd4476e83334e39b0d8dc58d4737d3f\"></div>\n",
       "<script type=\"text/javascript\">\n",
       "  (function(spec, embedOpt){\n",
       "    let outputDiv = document.currentScript.previousElementSibling;\n",
       "    if (outputDiv.id !== \"altair-viz-1dd4476e83334e39b0d8dc58d4737d3f\") {\n",
       "      outputDiv = document.getElementById(\"altair-viz-1dd4476e83334e39b0d8dc58d4737d3f\");\n",
       "    }\n",
       "    const paths = {\n",
       "      \"vega\": \"https://cdn.jsdelivr.net/npm//vega@5?noext\",\n",
       "      \"vega-lib\": \"https://cdn.jsdelivr.net/npm//vega-lib?noext\",\n",
       "      \"vega-lite\": \"https://cdn.jsdelivr.net/npm//vega-lite@4.8.1?noext\",\n",
       "      \"vega-embed\": \"https://cdn.jsdelivr.net/npm//vega-embed@6?noext\",\n",
       "    };\n",
       "\n",
       "    function loadScript(lib) {\n",
       "      return new Promise(function(resolve, reject) {\n",
       "        var s = document.createElement('script');\n",
       "        s.src = paths[lib];\n",
       "        s.async = true;\n",
       "        s.onload = () => resolve(paths[lib]);\n",
       "        s.onerror = () => reject(`Error loading script: ${paths[lib]}`);\n",
       "        document.getElementsByTagName(\"head\")[0].appendChild(s);\n",
       "      });\n",
       "    }\n",
       "\n",
       "    function showError(err) {\n",
       "      outputDiv.innerHTML = `<div class=\"error\" style=\"color:red;\">${err}</div>`;\n",
       "      throw err;\n",
       "    }\n",
       "\n",
       "    function displayChart(vegaEmbed) {\n",
       "      vegaEmbed(outputDiv, spec, embedOpt)\n",
       "        .catch(err => showError(`Javascript Error: ${err.message}<br>This usually means there's a typo in your chart specification. See the javascript console for the full traceback.`));\n",
       "    }\n",
       "\n",
       "    if(typeof define === \"function\" && define.amd) {\n",
       "      requirejs.config({paths});\n",
       "      require([\"vega-embed\"], displayChart, err => showError(`Error loading script: ${err.message}`));\n",
       "    } else if (typeof vegaEmbed === \"function\") {\n",
       "      displayChart(vegaEmbed);\n",
       "    } else {\n",
       "      loadScript(\"vega\")\n",
       "        .then(() => loadScript(\"vega-lite\"))\n",
       "        .then(() => loadScript(\"vega-embed\"))\n",
       "        .catch(showError)\n",
       "        .then(() => displayChart(vegaEmbed));\n",
       "    }\n",
       "  })({\"config\": {\"view\": {\"continuousWidth\": 400, \"continuousHeight\": 300}}, \"data\": {\"url\": \"altair-data-ee3a2f76a6e6fa308638860733627fff.json\", \"format\": {\"type\": \"json\"}}, \"mark\": \"rect\", \"encoding\": {\"color\": {\"type\": \"nominal\", \"field\": \"weight\", \"scale\": {\"scheme\": \"blues\"}}, \"tooltip\": [{\"type\": \"nominal\", \"field\": \"p1\"}, {\"type\": \"nominal\", \"field\": \"p2\"}, {\"type\": \"quantitative\", \"field\": \"weight\"}], \"x\": {\"type\": \"nominal\", \"field\": \"p1\"}, \"y\": {\"type\": \"nominal\", \"field\": \"p2\"}}, \"height\": 700, \"width\": 700, \"$schema\": \"https://vega.github.io/schema/vega-lite/v4.8.1.json\"}, {\"mode\": \"vega-lite\"});\n",
       "</script>"
      ],
      "text/plain": [
       "alt.Chart(...)"
      ]
     },
     "execution_count": 45,
     "metadata": {},
     "output_type": "execute_result"
    }
   ],
   "source": [
    "genMatrix1(simpsons)"
   ]
  },
  {
   "cell_type": "markdown",
   "metadata": {},
   "source": [
    "The problem with this layout is that it is rather arbitrary (alphabetical on character names). This makes pattern recognition in the data difficult. One solution is to reorder the rows and columns so that close characters that are similar will end up close to each other.\n",
    "\n",
    "This can be done with either [Seaborn's clustermap](https://seaborn.pydata.org/generated/seaborn.clustermap.html), or what we will use here: Scipy's [agglomerative clustering](https://scikit-learn.org/stable/modules/generated/sklearn.cluster.AgglomerativeClustering.html) and modify the [linkage analysis](https://scikit-learn.org/stable/auto_examples/cluster/plot_agglomerative_dendrogram.html) used to generate the dendrogram to find the order of the leaves."
   ]
  },
  {
   "cell_type": "code",
   "execution_count": 46,
   "metadata": {},
   "outputs": [],
   "source": [
    "# a function to re-order using the agglomerative clustering and dendrogram layout\n",
    "\n",
    "def getNewOrder(mtrx,originalorder):\n",
    "    # determine the new order given an \"edge list representation\"\n",
    "    # accepts the \"original order\" returns a new order\n",
    "    model = AgglomerativeClustering(distance_threshold=0, n_clusters=None)\n",
    "    model = model.fit(mtrx)\n",
    "    counts = np.zeros(model.children_.shape[0])\n",
    "    n_samples = len(model.labels_)\n",
    "    for i, merge in enumerate(model.children_):\n",
    "        current_count = 0\n",
    "        for child_idx in merge:\n",
    "            if child_idx < n_samples:\n",
    "                current_count += 1  # leaf node\n",
    "            else:\n",
    "                current_count += counts[child_idx - n_samples]\n",
    "        counts[i] = current_count\n",
    "\n",
    "    linkage_matrix = np.column_stack([model.children_, model.distances_,\n",
    "                                      counts]).astype(float)\n",
    "\n",
    "    leaves = leaves_list(linkage_matrix)\n",
    "    neworder = []\n",
    "    for l in leaves:\n",
    "        neworder.append(originalorder[l])\n",
    "    return(neworder)"
   ]
  },
  {
   "cell_type": "markdown",
   "metadata": {},
   "source": [
    "The scipy clustering code requires a \"vector\" representation of each node (which we calculated when we ran ```getMatixDetail```).  This looks much like the edge list representation.\n",
    "\n",
    "Each vector will be compared to all others giving us the \"distance\" between characters and that will be used to cluster."
   ]
  },
  {
   "cell_type": "code",
   "execution_count": 47,
   "metadata": {},
   "outputs": [
    {
     "name": "stdout",
     "output_type": "stream",
     "text": [
      "The first character in m is: Homer\n",
      "It is represented by the vector: [0, 62, 11, 9, 9, 69, 6, 50, 13, 9, 0, 0, 6]\n"
     ]
    }
   ],
   "source": [
    "df,names,m = getMatrixDetails(simpsons[simpsons.season <= 6],threshold=6)\n",
    "\n",
    "print(\"The first character in m is:\",names[0])\n",
    "\n",
    "print(\"It is represented by the vector:\",m[0])"
   ]
  },
  {
   "cell_type": "code",
   "execution_count": 48,
   "metadata": {},
   "outputs": [],
   "source": [
    "def genMatrix2(inframe,threshold=6):\n",
    "    # takes an input frame as input\n",
    "    # returns an altair plot for the matrix as described above\n",
    "    df,names,m = getMatrixDetails(inframe,threshold=threshold)\n",
    "\n",
    "    neworder = getNewOrder(m,names)\n",
    "    \n",
    "    # modify the following\n",
    "    \n",
    "    toret = alt.Chart(df).mark_rect().encode(\n",
    "        x=alt.X('p1:N',sort=neworder), \n",
    "        y=alt.Y('p2:N',sort=neworder), \n",
    "        color=alt.Color('weight:Q'),\n",
    "        order=alt.Order(\"neworder:N\"),\n",
    "        tooltip=['p1','p2','weight'],\n",
    "    ).properties(width=700,height=700)\n",
    "\n",
    "    return (toret)"
   ]
  },
  {
   "cell_type": "code",
   "execution_count": 49,
   "metadata": {},
   "outputs": [
    {
     "data": {
      "text/html": [
       "\n",
       "<div id=\"altair-viz-748ebd6d36d9478398aefb21f76af384\"></div>\n",
       "<script type=\"text/javascript\">\n",
       "  (function(spec, embedOpt){\n",
       "    let outputDiv = document.currentScript.previousElementSibling;\n",
       "    if (outputDiv.id !== \"altair-viz-748ebd6d36d9478398aefb21f76af384\") {\n",
       "      outputDiv = document.getElementById(\"altair-viz-748ebd6d36d9478398aefb21f76af384\");\n",
       "    }\n",
       "    const paths = {\n",
       "      \"vega\": \"https://cdn.jsdelivr.net/npm//vega@5?noext\",\n",
       "      \"vega-lib\": \"https://cdn.jsdelivr.net/npm//vega-lib?noext\",\n",
       "      \"vega-lite\": \"https://cdn.jsdelivr.net/npm//vega-lite@4.8.1?noext\",\n",
       "      \"vega-embed\": \"https://cdn.jsdelivr.net/npm//vega-embed@6?noext\",\n",
       "    };\n",
       "\n",
       "    function loadScript(lib) {\n",
       "      return new Promise(function(resolve, reject) {\n",
       "        var s = document.createElement('script');\n",
       "        s.src = paths[lib];\n",
       "        s.async = true;\n",
       "        s.onload = () => resolve(paths[lib]);\n",
       "        s.onerror = () => reject(`Error loading script: ${paths[lib]}`);\n",
       "        document.getElementsByTagName(\"head\")[0].appendChild(s);\n",
       "      });\n",
       "    }\n",
       "\n",
       "    function showError(err) {\n",
       "      outputDiv.innerHTML = `<div class=\"error\" style=\"color:red;\">${err}</div>`;\n",
       "      throw err;\n",
       "    }\n",
       "\n",
       "    function displayChart(vegaEmbed) {\n",
       "      vegaEmbed(outputDiv, spec, embedOpt)\n",
       "        .catch(err => showError(`Javascript Error: ${err.message}<br>This usually means there's a typo in your chart specification. See the javascript console for the full traceback.`));\n",
       "    }\n",
       "\n",
       "    if(typeof define === \"function\" && define.amd) {\n",
       "      requirejs.config({paths});\n",
       "      require([\"vega-embed\"], displayChart, err => showError(`Error loading script: ${err.message}`));\n",
       "    } else if (typeof vegaEmbed === \"function\") {\n",
       "      displayChart(vegaEmbed);\n",
       "    } else {\n",
       "      loadScript(\"vega\")\n",
       "        .then(() => loadScript(\"vega-lite\"))\n",
       "        .then(() => loadScript(\"vega-embed\"))\n",
       "        .catch(showError)\n",
       "        .then(() => displayChart(vegaEmbed));\n",
       "    }\n",
       "  })({\"config\": {\"view\": {\"continuousWidth\": 400, \"continuousHeight\": 300}}, \"data\": {\"url\": \"altair-data-400b85ba5d7bb0967878af1f4fe99a21.json\", \"format\": {\"type\": \"json\"}}, \"mark\": \"rect\", \"encoding\": {\"color\": {\"type\": \"quantitative\", \"field\": \"weight\"}, \"order\": {\"type\": \"nominal\", \"field\": \"neworder\"}, \"tooltip\": [{\"type\": \"nominal\", \"field\": \"p1\"}, {\"type\": \"nominal\", \"field\": \"p2\"}, {\"type\": \"quantitative\", \"field\": \"weight\"}], \"x\": {\"type\": \"nominal\", \"field\": \"p1\", \"sort\": [\"Mr. Burns\", \"Smithers\", \"Milhouse\", \"Nelson\", \"Moe\", \"Barney\", \"Apu\", \"Ned\", \"Grampa\", \"Homer\", \"Bart\", \"Marge\", \"Lisa\"]}, \"y\": {\"type\": \"nominal\", \"field\": \"p2\", \"sort\": [\"Mr. Burns\", \"Smithers\", \"Milhouse\", \"Nelson\", \"Moe\", \"Barney\", \"Apu\", \"Ned\", \"Grampa\", \"Homer\", \"Bart\", \"Marge\", \"Lisa\"]}}, \"height\": 700, \"width\": 700, \"$schema\": \"https://vega.github.io/schema/vega-lite/v4.8.1.json\"}, {\"mode\": \"vega-lite\"});\n",
       "</script>"
      ],
      "text/plain": [
       "alt.Chart(...)"
      ]
     },
     "execution_count": 49,
     "metadata": {},
     "output_type": "execute_result"
    }
   ],
   "source": [
    "# If you im\n",
    "genMatrix2(simpsons[simpsons.season <= 6])"
   ]
  },
  {
   "cell_type": "markdown",
   "metadata": {},
   "source": [
    "* Pattern 1 - The blue cluster at the bottom right indicates significantly more interaction between those characters. This makes sense, as the Simpson family are the main characters.\n",
    "* Pattern 2 - The lines extending along Homer, Bart, and less so Lisa's axes indicate interaction with a multitude of characters. This pattern also allows us to see that sometimes these 3 main characters are the only ones the tertiary characters interact with. \n",
    "\n",
    "______________________\n",
    "<div style=\"text-align: right\"><sub>Exercise adapted and modified from UMSI homework assignment for SIADS 622.</sub></div>"
   ]
  }
 ],
 "metadata": {
  "kernelspec": {
   "display_name": "Python 3",
   "language": "python",
   "name": "python3"
  },
  "language_info": {
   "codemirror_mode": {
    "name": "ipython",
    "version": 3
   },
   "file_extension": ".py",
   "mimetype": "text/x-python",
   "name": "python",
   "nbconvert_exporter": "python",
   "pygments_lexer": "ipython3",
   "version": "3.7.4"
  }
 },
 "nbformat": 4,
 "nbformat_minor": 2
}
